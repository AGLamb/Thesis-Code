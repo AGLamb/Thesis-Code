{
 "cells": [
  {
   "cell_type": "code",
   "execution_count": 1,
   "id": "def0c6d4-534c-4745-9c8a-3fc328f07de7",
   "metadata": {},
   "outputs": [
    {
     "ename": "ModuleNotFoundError",
     "evalue": "No module named 'geopandas'",
     "output_type": "error",
     "traceback": [
      "\u001b[0;31m---------------------------------------------------------------------------\u001b[0m",
      "\u001b[0;31mModuleNotFoundError\u001b[0m                       Traceback (most recent call last)",
      "Input \u001b[0;32mIn [1]\u001b[0m, in \u001b[0;36m<cell line: 2>\u001b[0;34m()\u001b[0m\n\u001b[1;32m      1\u001b[0m \u001b[38;5;28;01mimport\u001b[39;00m \u001b[38;5;21;01mmatplotlib\u001b[39;00m\u001b[38;5;21;01m.\u001b[39;00m\u001b[38;5;21;01mpyplot\u001b[39;00m \u001b[38;5;28;01mas\u001b[39;00m \u001b[38;5;21;01mplt\u001b[39;00m\n\u001b[0;32m----> 2\u001b[0m \u001b[38;5;28;01mimport\u001b[39;00m \u001b[38;5;21;01mgeopandas\u001b[39;00m \u001b[38;5;28;01mas\u001b[39;00m \u001b[38;5;21;01mgpd\u001b[39;00m\n\u001b[1;32m      3\u001b[0m \u001b[38;5;28;01mfrom\u001b[39;00m \u001b[38;5;21;01mtqdm\u001b[39;00m \u001b[38;5;28;01mimport\u001b[39;00m tqdm\n\u001b[1;32m      4\u001b[0m \u001b[38;5;28;01mimport\u001b[39;00m \u001b[38;5;21;01mpandas\u001b[39;00m \u001b[38;5;28;01mas\u001b[39;00m \u001b[38;5;21;01mpd\u001b[39;00m\n",
      "\u001b[0;31mModuleNotFoundError\u001b[0m: No module named 'geopandas'"
     ]
    }
   ],
   "source": [
    "import matplotlib.pyplot as plt\n",
    "import geopandas as gpd\n",
    "from tqdm import tqdm\n",
    "import pandas as pd\n",
    "import numpy as np"
   ]
  },
  {
   "cell_type": "code",
   "execution_count": null,
   "id": "fc5bb7e5-92a1-412e-97f2-34bf00ca493e",
   "metadata": {},
   "outputs": [],
   "source": [
    "data = pd.read_csv(\"~/Vault/Thesis/Data/pm25_weer.csv\")\n",
    "data"
   ]
  },
  {
   "cell_type": "code",
   "execution_count": null,
   "id": "3e67f0b4-e181-419a-a6ef-b27c959a5685",
   "metadata": {},
   "outputs": [],
   "source": [
    "data.columns"
   ]
  },
  {
   "cell_type": "code",
   "execution_count": null,
   "id": "9e28cb12-3353-4d33-9ac2-b68928e38eed",
   "metadata": {},
   "outputs": [],
   "source": [
    "data.drop(data.iloc[:, 0:7], axis=1, inplace=True)\n",
    "data.drop([\"jaar\", \"maand\", \"weeknummer\", \"#STN\", \"timestamp\", \"components\", \"dag\", \"tijd\", \"datum\"], axis=1, inplace=True)\n",
    "data"
   ]
  },
  {
   "cell_type": "code",
   "execution_count": 26,
   "id": "d4933bd4-925c-4a64-9360-41bdb18278b2",
   "metadata": {},
   "outputs": [
    {
     "name": "stdout",
     "output_type": "stream",
     "text": [
      "['Zuiderkade' 'Grote Houtweg' 'Westerhoutplein' 'Beukenstraat'\n",
      " 'Parallelweg' 'Toon Hermanslaan' 'Lange acker' 'Schutterskwartier'\n",
      " 'Baanstraat' 'Wijk aan Duinerweg' 'Jan Pleeginghof' 'Drechtstraat'\n",
      " 'Duinvlietstraat' 'Creutzberglaan' 'Neeltje Snijdershof'\n",
      " 'Louis Davidslaan' 'Relweg' 'Nachtegaallaan' 'Julianaweg'\n",
      " 'Herman Gorterpad' 'Driehuizerkerkweg' 'Vondelpark' 'Kees Delfsweg'\n",
      " 'Vlaanderenstraat' 'Verlengde Voorstraat' 'Paulus Potterstraat'\n",
      " 'Velserduinweg' 'Fazantenlaan' 'Hortensiastraat' 'Kogeldistelstraat'\n",
      " 'Zuiderzeepark' 'Papaverweg' 'De Nollen' 'Doctor Schuitstraat'\n",
      " 'Kleine Pan' 'Hondemanstraat' 'Slachthuisstraat' 'Fluitekruidweg'\n",
      " 'Fultonstraat' 'Ridderspoorweg' 'Duinweg' 'Klaprozenweg' 'Badhuiskade'\n",
      " 'Albatrospad' 'Hulstweg' 'Oostzijde' 'Burgemeester Rothestraat'\n",
      " 'Perzikkruidweg' 'Varenweg' 'Christoffelkruidstraat' 'Zeestraat'\n",
      " 'Wijkerstraatweg' 'Hoflanderweg' 'Büllerlaan' 'Monnikskapstraat'\n",
      " 'Raadhuisstraat' 'Stationsweg' 'Beeckzanglaan' 'Willebrordstraat'\n",
      " 'Haagdoornhof' 'Jonkheer Geverslaan' 'Maerten van Heemskerckplein'\n",
      " 'Melklaan' 'Klimopweg' 'Veldbloemenweg' 'Campanulastraat' 'Suykers acker'\n",
      " 'De Zevenhoeven' 'Pinksterbloemweg' 'Dovenetelweg' 'Cieweg'\n",
      " 'Gasthuisstraat' 'Mary Zeldenruststraat' 'Kon. Emmastraat'\n",
      " 'Adriaan Morriënpad' 'Stationsplein' 'Sluiseiland' 'Vogelkers'\n",
      " 'Johan van Hasseltkade' 'Pimpelmeesstraat' 'Langevlak'\n",
      " 'President Kennedyplein' 'IJdoorn' 'Het Gein' 'Deukelven'\n",
      " 'Surimanestraat']\n",
      "\n",
      "['holu' 'holu-extended']\n",
      "\n",
      "['Beverwijk' 'Heemskerk' 'Velsen-Noord' 'Wijk aan Zee' 'IJmuiden'\n",
      " 'Driehuis' 'Amsterdam' 'Zaandam' 'Koog aan de Zaan' 'Velsen-Zuid'\n",
      " 'Uithoorn']\n",
      "\n",
      "[4 3 5 6 0 1 2]\n",
      "\n",
      "[14 15 16 10 11 12 13 17 18 19 20 21 22 23  0  1  2  3  4  5  6  7  8  9]\n",
      "\n",
      "[20190712 20190718 20191212 ... 20221020 20221021 20221022]\n",
      "\n",
      "[173 177 175 198  45  46  54  51  48  44  41  63  40  42  37  38  43  47\n",
      "  56  73  77  79  80  76  69  64  53  52  49  71  70  65  72  84  59  50\n",
      "  62  57  66  85  78  87  90  81  75  82  74  83  96 125 129 126 124 106\n",
      "  97  67  60  68  61  55 114  88  93 100 107 128 122 121 118 119 117 115\n",
      " 112 105 109 116 103 101  92  58  91  89  95  94  98  11  36  26  28  35\n",
      "  27  25  17  13   8   2   4  -1  -6  -5 -10 -21   7  23  16  18  12  10\n",
      "   3  -2   1   5  32  34  29  24  14  31  33  21  22  19   9  20  30  15\n",
      "  86 102 110 108  99 111 113 123 120  39  -7  -3 104   0 131 127 132 133\n",
      " 145 138 135 -20 -15 -13  -8 139 140 143 159 186 191 194 183 171 150 142\n",
      " 164 187 206 170 154 130 148 167 172 176 179 180 178 163 144 153 195 203\n",
      " 205 210 218 216 211 168 188 161 137 152 158 156 147 169 192 151 199 190\n",
      " 184 182 149 165 181 141 134 136 146 162 157 185 160 193 201 204 155 174\n",
      " 200 209 215 224 223 166 189 202 212 214 207 220 228 233 197 208 196 213\n",
      " 229 235 246 250 260 261 255 249 234 226 217 225 231 227 236 244 254 248\n",
      " 219 239 251 253 262 245 222 232 221 230 240 242 243 238 256 263 274 281\n",
      " 284 279 286 282 277 268 264 271 285 287 288 267 241 252 280 290 292 295\n",
      " 258 265 272 270 273 293 276 301 316 328 302 237 309 331 332 323 311 299\n",
      " 269 266 297 303 300 310 318 294 314 326 304 305 312 247 278 289 291 257\n",
      " 259 307 -25  -4   6 -18 -12 -24  -9 -22 -31 -34 -33 -30 -28 -16 -27 -14\n",
      " -17 -29 -26 -50 -19 -38 -11 -23 -45 -46 -36 -39 -35 -40 -43 -44 296 308\n",
      " 315 343 350 354 353 275 283 306 298 313 339 348 324 341 346 358 361 338\n",
      " 322 340 -32 -47 -48 -49 -51 -52 -53 -41 -68 -62 -97 -90 -76 -91 -75 -42\n",
      " -55 -67 -66 -70 -69 -57 -58 -61 -65 -77 -81 -83 -37 -54 -56 319]\n",
      "\n",
      "[ 86  89  84  71  88  83  82  80  81  91  92  90  93  95  94  76  79  85\n",
      "  75  66  64  68  77  63  62  74  87  65  69  67  97  96  98  78  72  70\n",
      "  99  73  61  60  59  55  58  57  52  56  54  53  46  44  51  49  50  45\n",
      "  40  39  37  34  43  48  41  42  32  30  47  38  35  33  31  36  29  28\n",
      "  27  22  25  26  24 100]\n",
      "\n",
      "[320 330 300 260 190 180 170 160 150 210 140 130 120 100  90 990 280 230\n",
      " 270 250 220 240  70 200  60 290 310   0  10 110  80  50 340 360  20  30\n",
      "  40 350]\n",
      "\n",
      "[ 60  50  70  80  90 100 110  40  30  10 120  20 130 140   0 150 160 170\n",
      " 180 190 200 230]\n",
      "\n"
     ]
    }
   ],
   "source": [
    "for i in range(7, len(data.columns)):\n",
    "    print(f'{data.iloc[:, i].unique()}\\n')"
   ]
  },
  {
   "cell_type": "code",
   "execution_count": 14,
   "id": "4de0def8-509d-4d38-ae25-80013830df9d",
   "metadata": {},
   "outputs": [
    {
     "data": {
      "text/html": [
       "<div>\n",
       "<style scoped>\n",
       "    .dataframe tbody tr th:only-of-type {\n",
       "        vertical-align: middle;\n",
       "    }\n",
       "\n",
       "    .dataframe tbody tr th {\n",
       "        vertical-align: top;\n",
       "    }\n",
       "\n",
       "    .dataframe thead th {\n",
       "        text-align: right;\n",
       "    }\n",
       "</style>\n",
       "<table border=\"1\" class=\"dataframe\">\n",
       "  <thead>\n",
       "    <tr style=\"text-align: right;\">\n",
       "      <th></th>\n",
       "      <th>pm25</th>\n",
       "      <th>pm25_cal</th>\n",
       "      <th>pm25_fac</th>\n",
       "      <th>pm25_max</th>\n",
       "      <th>pm25_min</th>\n",
       "      <th>latitude</th>\n",
       "      <th>longitude</th>\n",
       "      <th>weekdag</th>\n",
       "      <th>uur</th>\n",
       "      <th>YYYYMMDD</th>\n",
       "      <th>T</th>\n",
       "      <th>U</th>\n",
       "      <th>DD</th>\n",
       "      <th>FH</th>\n",
       "    </tr>\n",
       "  </thead>\n",
       "  <tbody>\n",
       "    <tr>\n",
       "      <th>count</th>\n",
       "      <td>1.349813e+06</td>\n",
       "      <td>1.349813e+06</td>\n",
       "      <td>1.299703e+06</td>\n",
       "      <td>1.349813e+06</td>\n",
       "      <td>1.349813e+06</td>\n",
       "      <td>1.349813e+06</td>\n",
       "      <td>1.349813e+06</td>\n",
       "      <td>1.349813e+06</td>\n",
       "      <td>1.349813e+06</td>\n",
       "      <td>1.349813e+06</td>\n",
       "      <td>1.349813e+06</td>\n",
       "      <td>1.349813e+06</td>\n",
       "      <td>1.349813e+06</td>\n",
       "      <td>1.349813e+06</td>\n",
       "    </tr>\n",
       "    <tr>\n",
       "      <th>mean</th>\n",
       "      <td>1.920915e+01</td>\n",
       "      <td>2.231279e+01</td>\n",
       "      <td>1.274093e+00</td>\n",
       "      <td>2.208613e+01</td>\n",
       "      <td>1.707320e+01</td>\n",
       "      <td>5.245642e+01</td>\n",
       "      <td>4.726127e+00</td>\n",
       "      <td>2.994132e+00</td>\n",
       "      <td>1.170614e+01</td>\n",
       "      <td>2.020929e+07</td>\n",
       "      <td>1.158993e+02</td>\n",
       "      <td>7.715197e+01</td>\n",
       "      <td>1.950484e+02</td>\n",
       "      <td>4.815183e+01</td>\n",
       "    </tr>\n",
       "    <tr>\n",
       "      <th>std</th>\n",
       "      <td>5.360009e+01</td>\n",
       "      <td>7.794700e+01</td>\n",
       "      <td>5.626329e-01</td>\n",
       "      <td>5.707508e+01</td>\n",
       "      <td>5.215730e+01</td>\n",
       "      <td>4.585379e-02</td>\n",
       "      <td>1.169707e-01</td>\n",
       "      <td>1.988192e+00</td>\n",
       "      <td>6.824749e+00</td>\n",
       "      <td>9.223557e+03</td>\n",
       "      <td>6.333701e+01</td>\n",
       "      <td>1.517648e+01</td>\n",
       "      <td>1.216437e+02</td>\n",
       "      <td>2.766076e+01</td>\n",
       "    </tr>\n",
       "    <tr>\n",
       "      <th>min</th>\n",
       "      <td>0.000000e+00</td>\n",
       "      <td>0.000000e+00</td>\n",
       "      <td>0.000000e+00</td>\n",
       "      <td>0.000000e+00</td>\n",
       "      <td>0.000000e+00</td>\n",
       "      <td>5.223809e+01</td>\n",
       "      <td>4.587601e+00</td>\n",
       "      <td>0.000000e+00</td>\n",
       "      <td>0.000000e+00</td>\n",
       "      <td>2.019062e+07</td>\n",
       "      <td>-9.700000e+01</td>\n",
       "      <td>2.200000e+01</td>\n",
       "      <td>0.000000e+00</td>\n",
       "      <td>0.000000e+00</td>\n",
       "    </tr>\n",
       "    <tr>\n",
       "      <th>25%</th>\n",
       "      <td>2.606000e+00</td>\n",
       "      <td>3.667000e+00</td>\n",
       "      <td>8.700000e-01</td>\n",
       "      <td>3.500000e+00</td>\n",
       "      <td>1.900000e+00</td>\n",
       "      <td>5.244311e+01</td>\n",
       "      <td>4.638821e+00</td>\n",
       "      <td>1.000000e+00</td>\n",
       "      <td>6.000000e+00</td>\n",
       "      <td>2.020073e+07</td>\n",
       "      <td>6.800000e+01</td>\n",
       "      <td>6.700000e+01</td>\n",
       "      <td>1.100000e+02</td>\n",
       "      <td>3.000000e+01</td>\n",
       "    </tr>\n",
       "    <tr>\n",
       "      <th>50%</th>\n",
       "      <td>5.811000e+00</td>\n",
       "      <td>7.238000e+00</td>\n",
       "      <td>1.194130e+00</td>\n",
       "      <td>7.300000e+00</td>\n",
       "      <td>4.600000e+00</td>\n",
       "      <td>5.246408e+01</td>\n",
       "      <td>4.662902e+00</td>\n",
       "      <td>3.000000e+00</td>\n",
       "      <td>1.200000e+01</td>\n",
       "      <td>2.021053e+07</td>\n",
       "      <td>1.120000e+02</td>\n",
       "      <td>8.000000e+01</td>\n",
       "      <td>2.000000e+02</td>\n",
       "      <td>4.000000e+01</td>\n",
       "    </tr>\n",
       "    <tr>\n",
       "      <th>75%</th>\n",
       "      <td>1.448500e+01</td>\n",
       "      <td>1.445500e+01</td>\n",
       "      <td>1.599810e+00</td>\n",
       "      <td>1.760000e+01</td>\n",
       "      <td>1.200000e+01</td>\n",
       "      <td>5.249211e+01</td>\n",
       "      <td>4.834105e+00</td>\n",
       "      <td>5.000000e+00</td>\n",
       "      <td>1.800000e+01</td>\n",
       "      <td>2.022021e+07</td>\n",
       "      <td>1.630000e+02</td>\n",
       "      <td>8.900000e+01</td>\n",
       "      <td>2.700000e+02</td>\n",
       "      <td>6.000000e+01</td>\n",
       "    </tr>\n",
       "    <tr>\n",
       "      <th>max</th>\n",
       "      <td>6.405900e+02</td>\n",
       "      <td>1.539910e+03</td>\n",
       "      <td>7.980000e+00</td>\n",
       "      <td>6.553000e+02</td>\n",
       "      <td>6.405900e+02</td>\n",
       "      <td>5.252332e+01</td>\n",
       "      <td>4.955276e+00</td>\n",
       "      <td>6.000000e+00</td>\n",
       "      <td>2.300000e+01</td>\n",
       "      <td>2.022102e+07</td>\n",
       "      <td>3.610000e+02</td>\n",
       "      <td>1.000000e+02</td>\n",
       "      <td>9.900000e+02</td>\n",
       "      <td>2.300000e+02</td>\n",
       "    </tr>\n",
       "  </tbody>\n",
       "</table>\n",
       "</div>"
      ],
      "text/plain": [
       "               pm25      pm25_cal      pm25_fac      pm25_max      pm25_min  \\\n",
       "count  1.349813e+06  1.349813e+06  1.299703e+06  1.349813e+06  1.349813e+06   \n",
       "mean   1.920915e+01  2.231279e+01  1.274093e+00  2.208613e+01  1.707320e+01   \n",
       "std    5.360009e+01  7.794700e+01  5.626329e-01  5.707508e+01  5.215730e+01   \n",
       "min    0.000000e+00  0.000000e+00  0.000000e+00  0.000000e+00  0.000000e+00   \n",
       "25%    2.606000e+00  3.667000e+00  8.700000e-01  3.500000e+00  1.900000e+00   \n",
       "50%    5.811000e+00  7.238000e+00  1.194130e+00  7.300000e+00  4.600000e+00   \n",
       "75%    1.448500e+01  1.445500e+01  1.599810e+00  1.760000e+01  1.200000e+01   \n",
       "max    6.405900e+02  1.539910e+03  7.980000e+00  6.553000e+02  6.405900e+02   \n",
       "\n",
       "           latitude     longitude       weekdag           uur      YYYYMMDD  \\\n",
       "count  1.349813e+06  1.349813e+06  1.349813e+06  1.349813e+06  1.349813e+06   \n",
       "mean   5.245642e+01  4.726127e+00  2.994132e+00  1.170614e+01  2.020929e+07   \n",
       "std    4.585379e-02  1.169707e-01  1.988192e+00  6.824749e+00  9.223557e+03   \n",
       "min    5.223809e+01  4.587601e+00  0.000000e+00  0.000000e+00  2.019062e+07   \n",
       "25%    5.244311e+01  4.638821e+00  1.000000e+00  6.000000e+00  2.020073e+07   \n",
       "50%    5.246408e+01  4.662902e+00  3.000000e+00  1.200000e+01  2.021053e+07   \n",
       "75%    5.249211e+01  4.834105e+00  5.000000e+00  1.800000e+01  2.022021e+07   \n",
       "max    5.252332e+01  4.955276e+00  6.000000e+00  2.300000e+01  2.022102e+07   \n",
       "\n",
       "                  T             U            DD            FH  \n",
       "count  1.349813e+06  1.349813e+06  1.349813e+06  1.349813e+06  \n",
       "mean   1.158993e+02  7.715197e+01  1.950484e+02  4.815183e+01  \n",
       "std    6.333701e+01  1.517648e+01  1.216437e+02  2.766076e+01  \n",
       "min   -9.700000e+01  2.200000e+01  0.000000e+00  0.000000e+00  \n",
       "25%    6.800000e+01  6.700000e+01  1.100000e+02  3.000000e+01  \n",
       "50%    1.120000e+02  8.000000e+01  2.000000e+02  4.000000e+01  \n",
       "75%    1.630000e+02  8.900000e+01  2.700000e+02  6.000000e+01  \n",
       "max    3.610000e+02  1.000000e+02  9.900000e+02  2.300000e+02  "
      ]
     },
     "execution_count": 14,
     "metadata": {},
     "output_type": "execute_result"
    }
   ],
   "source": [
    "data.describe()"
   ]
  },
  {
   "cell_type": "code",
   "execution_count": 15,
   "id": "65ab58bb-2489-411b-9737-8a2a1e6ed3cf",
   "metadata": {},
   "outputs": [
    {
     "data": {
      "image/png": "[encoded data removed]",
      "text/plain": [
       "<Figure size 1152x576 with 1 Axes>"
      ]
     },
     "metadata": {
      "needs_background": "light"
     },
     "output_type": "display_data"
    }
   ],
   "source": [
    "plt.figure(figsize=(16, 8))\n",
    "plt.plot(data[\"pm25\"])\n",
    "plt.show()"
   ]
  },
  {
   "cell_type": "code",
   "execution_count": 16,
   "id": "0a8162f3-5e13-46b5-a540-d15c54138934",
   "metadata": {},
   "outputs": [
    {
     "data": {
      "text/plain": [
       "(1349813, 1)"
      ]
     },
     "execution_count": 16,
     "metadata": {},
     "output_type": "execute_result"
    }
   ],
   "source": [
    "array = data[\"pm25\"].to_numpy()\n",
    "array = array.reshape(len(array), 1)\n",
    "array.shape"
   ]
  },
  {
   "cell_type": "code",
   "execution_count": 17,
   "id": "d05a1c7d-9041-479b-8a01-cef46ae99cbe",
   "metadata": {},
   "outputs": [
    {
     "data": {
      "text/plain": [
       "array([[ 4.   ],\n",
       "       [11.176],\n",
       "       [10.81 ],\n",
       "       ...,\n",
       "       [ 7.887],\n",
       "       [ 9.182],\n",
       "       [ 7.1  ]])"
      ]
     },
     "execution_count": 17,
     "metadata": {},
     "output_type": "execute_result"
    }
   ],
   "source": [
    "array"
   ]
  },
  {
   "cell_type": "code",
   "execution_count": 18,
   "id": "bdbcb3e6-bf6e-4cf2-a227-1efc5a624397",
   "metadata": {},
   "outputs": [
    {
     "data": {
      "text/plain": [
       "50087"
      ]
     },
     "execution_count": 18,
     "metadata": {},
     "output_type": "execute_result"
    }
   ],
   "source": [
    "c = 0\n",
    "for i in range(len(array)):\n",
    "    if array[i] == 0:\n",
    "        c = c + 1\n",
    "c"
   ]
  },
  {
   "cell_type": "code",
   "execution_count": 19,
   "id": "e08b37bd-8d2c-4f90-8b21-36d3c03c9fd3",
   "metadata": {},
   "outputs": [
    {
     "data": {
      "text/plain": [
       "array([0.])"
      ]
     },
     "execution_count": 19,
     "metadata": {},
     "output_type": "execute_result"
    }
   ],
   "source": [
    "min(array)"
   ]
  },
  {
   "cell_type": "code",
   "execution_count": 20,
   "id": "63938640-e070-4725-9b37-01b94fb182f4",
   "metadata": {},
   "outputs": [
    {
     "data": {
      "text/plain": [
       "array([640.59])"
      ]
     },
     "execution_count": 20,
     "metadata": {},
     "output_type": "execute_result"
    }
   ],
   "source": [
    "max(array)"
   ]
  },
  {
   "cell_type": "code",
   "execution_count": 21,
   "id": "59a0f4c2-0cb5-4a24-bcfc-54aef7e225a2",
   "metadata": {},
   "outputs": [
    {
     "data": {
      "text/plain": [
       "1299726"
      ]
     },
     "execution_count": 21,
     "metadata": {},
     "output_type": "execute_result"
    }
   ],
   "source": [
    "array.shape[0] - c"
   ]
  }
 ],
 "metadata": {
  "kernelspec": {
   "display_name": "Python [conda env:RA] *",
   "language": "python",
   "name": "conda-env-RA-py"
  },
  "language_info": {
   "codemirror_mode": {
    "name": "ipython",
    "version": 3
   },
   "file_extension": ".py",
   "mimetype": "text/x-python",
   "name": "python",
   "nbconvert_exporter": "python",
   "pygments_lexer": "ipython3",
   "version": "3.9.12"
  }
 },
 "nbformat": 4,
 "nbformat_minor": 5
}
