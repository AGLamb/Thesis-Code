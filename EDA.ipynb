{
 "cells": [
  {
   "cell_type": "code",
   "execution_count": 54,
   "id": "def0c6d4-534c-4745-9c8a-3fc328f07de7",
   "metadata": {},
   "outputs": [],
   "source": [
    "from statsmodels.tsa.stattools import adfuller, grangercausalitytests, add_constant, coint\n",
    "from statsmodels.tsa.vector_ar.vecm import coint_johansen, select_coint_rank\n",
    "from statsmodels.tsa.api import AutoReg, VAR\n",
    "from geopy.distance import great_circle\n",
    "import matplotlib.pyplot as plt\n",
    "import sklearn.metrics as skm\n",
    "from tqdm import tqdm\n",
    "import pandas as pd\n",
    "import numpy as np\n",
    "import math"
   ]
  },
  {
   "cell_type": "code",
   "execution_count": 9,
   "id": "9e28cb12-3353-4d33-9ac2-b68928e38eed",
   "metadata": {},
   "outputs": [],
   "source": [
    "data = pd.read_csv(r\"C:\\Users\\VY72PC\\OneDrive - ING\\Documents\\STARIMA Project\\Data\\pm25_weer.csv\")\n",
    "data.drop(data.iloc[:, 0:7], axis=1, inplace=True)\n",
    "data.drop([\"jaar\", \"maand\", \"weeknummer\", \"#STN\", \"timestamp\", \"components\", \"dag\", \"tijd\", \"uur\", \"datum\", \"sensortype\", \"weekdag\", \"U\", \"H\", \"T\", \"FH\"], axis=1, inplace=True)"
   ]
  },
  {
   "cell_type": "code",
   "execution_count": null,
   "id": "c245e69a",
   "metadata": {},
   "outputs": [],
   "source": [
    "grouped_df = data.groupby([\"YYYYMMDD\", \"tag\"])[\"pm25\", \"longitude\", \"latitude\", \"DD\"].mean().copy().reset_index()\n",
    "grouped_df.rename(columns={\"U\":\"Wind\", \"DD\":\"Angle\"}, inplace=True)\n",
    "# grouped_df.head(5)"
   ]
  },
  {
   "cell_type": "code",
   "execution_count": null,
   "id": "3f3eced2",
   "metadata": {},
   "outputs": [],
   "source": [
    "Locations = grouped_df[\"tag\"].unique()\n",
    "LocDict = dict()\n",
    "\n",
    "for i in range(len(Locations)):\n",
    "    LocDict[Locations[i]] = (grouped_df[grouped_df.tag == Locations[i]][\"latitude\"].mean(), grouped_df[grouped_df.tag == Locations[i]][\"longitude\"].mean())\n",
    "\n",
    "# LocDict"
   ]
  },
  {
   "cell_type": "code",
   "execution_count": 12,
   "id": "b89152e0",
   "metadata": {},
   "outputs": [],
   "source": [
    "def get_bearing(coor1, coor2):\n",
    "    dLon = (coor2[1] - coor1[1])\n",
    "    y = math.sin(dLon) * math.cos(coor2[0])\n",
    "    x = math.cos(coor1[0]) * math.sin(coor2[0]) - math.sin(coor1[0]) * math.cos(coor2[0]) * math.cos(dLon)\n",
    "    brng = math.atan2(y, x)\n",
    "    brng = np.rad2deg(brng)\n",
    "    return brng\n",
    "\n",
    "W = np.zeros((11, 11))\n",
    "AngleMatrix = np.zeros((11, 11))\n",
    "\n",
    "for i in range(len(LocDict)):\n",
    "    for j in range(len(LocDict)):\n",
    "        if i != j:\n",
    "            theta = get_bearing(LocDict[Locations[i]], LocDict[Locations[j]])\n",
    "            W[i, j] = 1 / great_circle(LocDict[Locations[i]], LocDict[Locations[j]]).km\n",
    "            AngleMatrix[i, j] = theta"
   ]
  },
  {
   "cell_type": "code",
   "execution_count": null,
   "id": "cc775715",
   "metadata": {},
   "outputs": [],
   "source": [
    "grouped_df[\"Date\"] = grouped_df[\"YYYYMMDD\"].astype(str)\n",
    "grouped_df.set_index(\"Date\", inplace=True)\n",
    "grouped_df.drop(columns=[\"YYYYMMDD\", \"latitude\", \"longitude\"], inplace=True)\n",
    "# grouped_df.head(5)"
   ]
  },
  {
   "cell_type": "code",
   "execution_count": null,
   "id": "56980520",
   "metadata": {},
   "outputs": [],
   "source": [
    "UniqueNames = grouped_df.tag.unique()\n",
    "\n",
    "PolDict = {elem : pd.DataFrame() for elem in UniqueNames}\n",
    "# WindDict = {elem : pd.DataFrame() for elem in UniqueNames}\n",
    "AngleDict = {elem : pd.DataFrame() for elem in UniqueNames}\n",
    "\n",
    "for key in PolDict.keys():\n",
    "    PolDict[key] = grouped_df[:][grouped_df.tag == key]\n",
    "    PolDict[key].rename(columns={\"pm25\":key}, inplace=True)\n",
    "    PolDict[key].drop([\"Angle\"], axis=1, inplace=True)\n",
    "    del PolDict[key][\"tag\"]\n",
    "\n",
    "    # WindDict[key] = grouped_df[:][grouped_df.tag == key]\n",
    "    # WindDict[key].rename(columns={\"Wind\":key}, inplace=True)\n",
    "    # WindDict[key].drop([\"pm25\", \"Angle\"], axis=1, inplace=True)\n",
    "    # del WindDict[key][\"tag\"]\n",
    "\n",
    "    AngleDict[key] = grouped_df[:][grouped_df.tag == key]\n",
    "    AngleDict[key].rename(columns={\"Angle\":key}, inplace=True)\n",
    "    AngleDict[key].drop([\"pm25\"], axis=1 , inplace=True)\n",
    "    del AngleDict[key][\"tag\"]\n",
    "\n",
    "\n",
    "# AngleDict[\"Amsterdam\"]"
   ]
  },
  {
   "cell_type": "code",
   "execution_count": null,
   "id": "52789969",
   "metadata": {},
   "outputs": [],
   "source": [
    "df_pol = pd.DataFrame(PolDict[\"Amsterdam\"].copy())\n",
    "# df_wind = pd.DataFrame(WindDict[\"Amsterdam\"].copy())\n",
    "df_angle = pd.DataFrame(AngleDict[\"Amsterdam\"].copy())\n",
    "\n",
    "for key in PolDict:\n",
    "    df_pol = df_pol.combine_first(PolDict[key])\n",
    "    # df_wind = df_wind.combine_first(WindDict[key])\n",
    "    df_angle = df_angle.combine_first(AngleDict[key])\n",
    "\n",
    "# df_angle"
   ]
  },
  {
   "cell_type": "code",
   "execution_count": null,
   "id": "e83e5dd6",
   "metadata": {},
   "outputs": [],
   "source": [
    "for column in df_pol:\n",
    "    median_value = (df_pol[column].median(), df_angle[column].median())  #, df_wind[column].median())\n",
    "    df_pol[column].fillna(value=median_value[0], inplace = True)\n",
    "    df_angle[column].fillna(value=median_value[1], inplace = True)\n",
    "    # df_wind[column].fillna(value=median_value[2], inplace = True)\n",
    "    \n",
    "# df_angle"
   ]
  },
  {
   "cell_type": "code",
   "execution_count": 110,
   "id": "323fbe86",
   "metadata": {},
   "outputs": [
    {
     "data": {
      "text/html": [
       "<table class=\"simpletable\">\n",
       "<caption>Johansen cointegration test using maximum eigenvalue test statistic with 5% significance level</caption>\n",
       "<tr>\n",
       "  <th>r_0</th> <th>r_1</th> <th>test statistic</th> <th>critical value</th>\n",
       "</tr>\n",
       "<tr>\n",
       "    <td>0</td>   <td>1</td>          <td>173.1</td>          <td>73.94</td>\n",
       "</tr>\n",
       "<tr>\n",
       "    <td>1</td>   <td>2</td>          <td>153.7</td>          <td>67.90</td>\n",
       "</tr>\n",
       "<tr>\n",
       "    <td>2</td>   <td>3</td>          <td>139.0</td>          <td>61.81</td>\n",
       "</tr>\n",
       "<tr>\n",
       "    <td>3</td>   <td>4</td>          <td>85.48</td>          <td>55.73</td>\n",
       "</tr>\n",
       "<tr>\n",
       "    <td>4</td>   <td>5</td>          <td>66.72</td>          <td>49.59</td>\n",
       "</tr>\n",
       "<tr>\n",
       "    <td>5</td>   <td>6</td>          <td>43.87</td>          <td>43.42</td>\n",
       "</tr>\n",
       "<tr>\n",
       "    <td>6</td>   <td>7</td>          <td>38.15</td>          <td>37.16</td>\n",
       "</tr>\n",
       "<tr>\n",
       "    <td>7</td>   <td>8</td>          <td>28.02</td>          <td>30.82</td>\n",
       "</tr>\n",
       "</table>"
      ],
      "text/plain": [
       "<class 'statsmodels.iolib.table.SimpleTable'>"
      ]
     },
     "execution_count": 110,
     "metadata": {},
     "output_type": "execute_result"
    }
   ],
   "source": [
    "cont = select_coint_rank(endog=df_pol, det_order=1, k_ar_diff=5, method='maxeig', signif=0.05)\n",
    "cont.summary()"
   ]
  },
  {
   "cell_type": "code",
   "execution_count": null,
   "id": "25eec440",
   "metadata": {},
   "outputs": [],
   "source": [
    "VARModel = VAR(df_pol, ).fit(trend=\"ctt\")\n",
    "VARModel.summary()"
   ]
  },
  {
   "cell_type": "code",
   "execution_count": null,
   "id": "6cde5079",
   "metadata": {},
   "outputs": [],
   "source": [
    "WY = pd.DataFrame(np.matmul(df_pol.to_numpy(), W))\n",
    "\n",
    "for i in range(len(df_pol.columns)):\n",
    "    WY.rename(columns={i:f'{df_pol.columns[i]}'}, inplace=True)\n",
    "\n",
    "SVAR = VAR(WY).fit(trend=\"ctt\")\n",
    "SVAR.summary()"
   ]
  },
  {
   "cell_type": "code",
   "execution_count": null,
   "id": "caccb378",
   "metadata": {},
   "outputs": [],
   "source": [
    "WW = list()\n",
    "\n",
    "\n",
    "for i in range(len(df_angle)):\n",
    "    wind_direction = np.zeros((len(df_angle.columns), len(df_angle.columns)))\n",
    "    \n",
    "    for j in range(0, len(df_angle.columns)):\n",
    "        wind_direction[j, :] = np.cos(AngleMatrix[j, :] - df_angle.iloc[i, j])\n",
    "\n",
    "    wind_direction = wind_direction * W\n",
    "    wind_direction = np.nan_to_num(wind_direction, nan=0, posinf=0, neginf=0)\n",
    "    WW.append(wind_direction)\n",
    "\n",
    "\n",
    "\n",
    "WWY = np.zeros((len(df_pol), len(df_pol.columns)))\n",
    "for i in range(len(df_pol)):\n",
    "    WWY[i, :] = np.matmul(df_pol.iloc[i, :].to_numpy(), WW[i])\n",
    "\n",
    "\n",
    "WWY = pd.DataFrame(WWY)\n",
    "for i in range(len(df_pol.columns)):\n",
    "    WWY.rename(columns={i:f'{df_pol.columns[i]}'}, inplace=True)\n",
    "\n",
    "\n",
    "\n",
    "# # EXOG = pd.DataFrame(np.concatenate((df_pol, WWY), axis=1))\n",
    "# # for i in range(len(df_pol.columns)):\n",
    "# #     EXOG.rename(columns={i:f'{df_pol.columns[i]}'}, inplace=True)\n",
    "# #     EXOG.rename(columns={i + 11:f'Spatial - {df_pol.columns[i]}'}, inplace=True)\n",
    "# #     i += 1\n",
    "\n",
    "\n",
    "\n",
    "SWVAR = VAR(WWY).fit(trend=\"ctt\")\n",
    "SWVAR.summary()"
   ]
  },
  {
   "cell_type": "code",
   "execution_count": null,
   "id": "50bc7fa1",
   "metadata": {},
   "outputs": [],
   "source": [
    "for key in PolDict:\n",
    "    R2 = skm.r2_score(SWVAR.fittedvalues[key] + SWVAR.resid[key], SWVAR.fittedvalues[key])\n",
    "    print(F'The R-Squared of {key} is: {R2*100:.2f}%')"
   ]
  }
 ],
 "metadata": {
  "kernelspec": {
   "display_name": "base",
   "language": "python",
   "name": "python3"
  },
  "language_info": {
   "codemirror_mode": {
    "name": "ipython",
    "version": 3
   },
   "file_extension": ".py",
   "mimetype": "text/x-python",
   "name": "python",
   "nbconvert_exporter": "python",
   "pygments_lexer": "ipython3",
   "version": "3.8.8 (default, Apr 13 2021, 15:08:03) [MSC v.1916 64 bit (AMD64)]"
  },
  "vscode": {
   "interpreter": {
    "hash": "ad2bdc8ecc057115af97d19610ffacc2b4e99fae6737bb82f5d7fb13d2f2c186"
   }
  }
 },
 "nbformat": 4,
 "nbformat_minor": 5
}
