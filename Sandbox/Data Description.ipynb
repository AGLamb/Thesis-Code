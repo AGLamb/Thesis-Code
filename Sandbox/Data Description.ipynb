{
 "cells": [
  {
   "cell_type": "code",
   "execution_count": 1,
   "metadata": {
    "collapsed": true,
    "ExecuteTime": {
     "end_time": "2023-05-26T08:19:24.892971600Z",
     "start_time": "2023-05-26T08:19:23.538511600Z"
    }
   },
   "outputs": [],
   "source": [
    "import pandas as pd"
   ]
  },
  {
   "cell_type": "code",
   "execution_count": null,
   "outputs": [],
   "source": [
    "path = r\"/Users/main/Vault/Thesis/Data/Core/train_data.csv\""
   ],
   "metadata": {
    "collapsed": false
   }
  },
  {
   "cell_type": "code",
   "execution_count": null,
   "outputs": [],
   "source": [
    "df = pd.read_csv(path)\n",
    "df.head(10)"
   ],
   "metadata": {
    "collapsed": false
   }
  },
  {
   "cell_type": "code",
   "execution_count": null,
   "outputs": [],
   "source": [
    "df[[\"timestamp\", \"H\"]].head(10)"
   ],
   "metadata": {
    "collapsed": false
   }
  },
  {
   "cell_type": "code",
   "execution_count": null,
   "outputs": [],
   "source": [
    "df.columns"
   ],
   "metadata": {
    "collapsed": false
   }
  },
  {
   "cell_type": "code",
   "execution_count": null,
   "outputs": [],
   "source": [
    "descriptive = list()\n",
    "for i, name in enumerate(df['tag'].unique()):\n",
    "    descriptive.append({\n",
    "        'Municipality': name,\n",
    "        'No. of Sensors': len(df[df[\"tag\"] == name][\"id\"].unique()),\n",
    "        'No. of Streets': len(df[df[\"tag\"] == name][\"name\"].unique()),\n",
    "        'No. of Observations': len(df[df[\"tag\"] == name]),\n",
    "        'Average Longitude': df[df[\"tag\"] == name][\"longitude\"].mean(),\n",
    "        'Average latitude': df[df[\"tag\"] == name][\"latitude\"].mean()\n",
    "    })\n",
    "descriptive = pd.DataFrame(descriptive)"
   ],
   "metadata": {
    "collapsed": false
   }
  },
  {
   "cell_type": "code",
   "execution_count": null,
   "outputs": [],
   "source": [
    "descriptive.to_latex(index=False)"
   ],
   "metadata": {
    "collapsed": false
   }
  },
  {
   "cell_type": "code",
   "execution_count": null,
   "outputs": [],
   "source": [
    "stats = list()\n",
    "for i, name in enumerate(df['tag'].unique()):\n",
    "    stats.append({\n",
    "        'Municipality': name,\n",
    "        'Maximum PM2.5': max(df[df[\"tag\"] == name][\"pm25_cal\"]),\n",
    "        'Minimum PM2.5': min(df[df[\"tag\"] == name][\"pm25_cal\"]),\n",
    "        'PM2.5': df[df[\"tag\"] == name][\"pm25\"].median(),\n",
    "        'PM2.5 Calibrated': df[df[\"tag\"] == name][\"pm25_cal\"].median(),\n",
    "        'Wind Speed': df[df[\"tag\"] == name][\"FH\"].median(),\n",
    "        'Wind Direction': df[df[\"tag\"] == name][\"DD\"].median(),\n",
    "        'Temperature': df[df[\"tag\"] == name][\"T\"].median(),\n",
    "        'Humidity': df[df[\"tag\"] == name][\"U\"].median()\n",
    "    })\n",
    "stats = pd.DataFrame(stats)\n",
    "stats.to_latex(index=False)"
   ],
   "metadata": {
    "collapsed": false
   }
  },
  {
   "cell_type": "markdown",
   "source": [],
   "metadata": {
    "collapsed": false
   }
  }
 ],
 "metadata": {
  "kernelspec": {
   "display_name": "Python 3",
   "language": "python",
   "name": "python3"
  },
  "language_info": {
   "codemirror_mode": {
    "name": "ipython",
    "version": 2
   },
   "file_extension": ".py",
   "mimetype": "text/x-python",
   "name": "python",
   "nbconvert_exporter": "python",
   "pygments_lexer": "ipython2",
   "version": "2.7.6"
  }
 },
 "nbformat": 4,
 "nbformat_minor": 0
}
