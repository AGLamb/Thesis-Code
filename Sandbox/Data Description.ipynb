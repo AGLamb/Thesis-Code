{
 "cells": [
  {
   "cell_type": "code",
   "execution_count": 1,
   "metadata": {
    "collapsed": true,
    "ExecuteTime": {
     "end_time": "2023-05-15T06:29:18.425141700Z",
     "start_time": "2023-05-15T06:29:17.580139700Z"
    }
   },
   "outputs": [],
   "source": [
    "import pandas as pd"
   ]
  },
  {
   "cell_type": "code",
   "execution_count": 4,
   "outputs": [],
   "source": [
    "path = r\"C:\\Users\\VY72PC\\PycharmProjects\\Academia\\Data\\pm25_weer.csv\""
   ],
   "metadata": {
    "collapsed": false,
    "ExecuteTime": {
     "end_time": "2023-05-15T06:34:25.476789800Z",
     "start_time": "2023-05-15T06:34:25.454793400Z"
    }
   }
  },
  {
   "cell_type": "code",
   "execution_count": 6,
   "outputs": [
    {
     "data": {
      "text/plain": "          id      no2    pm10  pm10_cal  pm10_fac  pm10_max  pm10_min    pm25  \\\n0          1      NaN   8.195     8.774  1.070000      8.39      8.00   4.000   \n1          4      NaN  17.258    18.165  1.052000     20.10     15.60  11.176   \n2          5      NaN  19.952    20.497  1.027000     24.40     16.50  10.810   \n3          7      NaN  20.278    21.216  1.042000     24.40     16.20  11.510   \n4         10      NaN  18.099    19.186  1.062000     21.90     14.70   8.942   \n...      ...      ...     ...       ...       ...       ...       ...     ...   \n1349808  199  33.4319  24.660    16.796  0.681103     28.50     20.50  11.910   \n1349809  200  43.1974   0.000     0.000       NaN      0.00      0.00   0.000   \n1349810  212   2.5000  23.074    22.407  0.971261     29.30     18.29   7.887   \n1349811  213  39.1156  37.694    36.569  0.970257     60.80     24.40   9.182   \n1349812  217  16.4588   9.600    11.136  1.160000      9.60      9.60   7.100   \n\n         pm25_cal  pm25_fac  ...  YYYYMMDD  jaar maand weeknummer  dag   H  \\\n0           1.640  0.410000  ...  20190712  2019     7         28   12  14   \n1           4.256  0.381000  ...  20190712  2019     7         28   12  14   \n2           3.996  0.370000  ...  20190712  2019     7         28   12  14   \n3           4.292  0.371000  ...  20190712  2019     7         28   12  14   \n4           3.471  0.390000  ...  20190712  2019     7         28   12  14   \n...           ...       ...  ...       ...   ...   ...        ...  ...  ..   \n1349808     9.877  0.829303  ...  20221022  2022    10         42   22  23   \n1349809     0.000       NaN  ...  20221022  2022    10         42   22  23   \n1349810    11.534  1.461850  ...  20221022  2022    10         42   22  23   \n1349811    13.432  1.463180  ...  20221022  2022    10         42   22  23   \n1349812     8.946  1.260000  ...  20221022  2022    10         42   22  23   \n\n           T   U   DD  FH  \n0        173  86  320  60  \n1        173  86  320  60  \n2        173  86  320  60  \n3        173  86  320  60  \n4        173  86  320  60  \n...      ...  ..  ...  ..  \n1349808  127  92  140  20  \n1349809  127  92  140  20  \n1349810  127  92  140  20  \n1349811  127  92  140  20  \n1349812  127  92  140  20  \n\n[1349813 rows x 34 columns]",
      "text/html": "<div>\n<style scoped>\n    .dataframe tbody tr th:only-of-type {\n        vertical-align: middle;\n    }\n\n    .dataframe tbody tr th {\n        vertical-align: top;\n    }\n\n    .dataframe thead th {\n        text-align: right;\n    }\n</style>\n<table border=\"1\" class=\"dataframe\">\n  <thead>\n    <tr style=\"text-align: right;\">\n      <th></th>\n      <th>id</th>\n      <th>no2</th>\n      <th>pm10</th>\n      <th>pm10_cal</th>\n      <th>pm10_fac</th>\n      <th>pm10_max</th>\n      <th>pm10_min</th>\n      <th>pm25</th>\n      <th>pm25_cal</th>\n      <th>pm25_fac</th>\n      <th>...</th>\n      <th>YYYYMMDD</th>\n      <th>jaar</th>\n      <th>maand</th>\n      <th>weeknummer</th>\n      <th>dag</th>\n      <th>H</th>\n      <th>T</th>\n      <th>U</th>\n      <th>DD</th>\n      <th>FH</th>\n    </tr>\n  </thead>\n  <tbody>\n    <tr>\n      <th>0</th>\n      <td>1</td>\n      <td>NaN</td>\n      <td>8.195</td>\n      <td>8.774</td>\n      <td>1.070000</td>\n      <td>8.39</td>\n      <td>8.00</td>\n      <td>4.000</td>\n      <td>1.640</td>\n      <td>0.410000</td>\n      <td>...</td>\n      <td>20190712</td>\n      <td>2019</td>\n      <td>7</td>\n      <td>28</td>\n      <td>12</td>\n      <td>14</td>\n      <td>173</td>\n      <td>86</td>\n      <td>320</td>\n      <td>60</td>\n    </tr>\n    <tr>\n      <th>1</th>\n      <td>4</td>\n      <td>NaN</td>\n      <td>17.258</td>\n      <td>18.165</td>\n      <td>1.052000</td>\n      <td>20.10</td>\n      <td>15.60</td>\n      <td>11.176</td>\n      <td>4.256</td>\n      <td>0.381000</td>\n      <td>...</td>\n      <td>20190712</td>\n      <td>2019</td>\n      <td>7</td>\n      <td>28</td>\n      <td>12</td>\n      <td>14</td>\n      <td>173</td>\n      <td>86</td>\n      <td>320</td>\n      <td>60</td>\n    </tr>\n    <tr>\n      <th>2</th>\n      <td>5</td>\n      <td>NaN</td>\n      <td>19.952</td>\n      <td>20.497</td>\n      <td>1.027000</td>\n      <td>24.40</td>\n      <td>16.50</td>\n      <td>10.810</td>\n      <td>3.996</td>\n      <td>0.370000</td>\n      <td>...</td>\n      <td>20190712</td>\n      <td>2019</td>\n      <td>7</td>\n      <td>28</td>\n      <td>12</td>\n      <td>14</td>\n      <td>173</td>\n      <td>86</td>\n      <td>320</td>\n      <td>60</td>\n    </tr>\n    <tr>\n      <th>3</th>\n      <td>7</td>\n      <td>NaN</td>\n      <td>20.278</td>\n      <td>21.216</td>\n      <td>1.042000</td>\n      <td>24.40</td>\n      <td>16.20</td>\n      <td>11.510</td>\n      <td>4.292</td>\n      <td>0.371000</td>\n      <td>...</td>\n      <td>20190712</td>\n      <td>2019</td>\n      <td>7</td>\n      <td>28</td>\n      <td>12</td>\n      <td>14</td>\n      <td>173</td>\n      <td>86</td>\n      <td>320</td>\n      <td>60</td>\n    </tr>\n    <tr>\n      <th>4</th>\n      <td>10</td>\n      <td>NaN</td>\n      <td>18.099</td>\n      <td>19.186</td>\n      <td>1.062000</td>\n      <td>21.90</td>\n      <td>14.70</td>\n      <td>8.942</td>\n      <td>3.471</td>\n      <td>0.390000</td>\n      <td>...</td>\n      <td>20190712</td>\n      <td>2019</td>\n      <td>7</td>\n      <td>28</td>\n      <td>12</td>\n      <td>14</td>\n      <td>173</td>\n      <td>86</td>\n      <td>320</td>\n      <td>60</td>\n    </tr>\n    <tr>\n      <th>...</th>\n      <td>...</td>\n      <td>...</td>\n      <td>...</td>\n      <td>...</td>\n      <td>...</td>\n      <td>...</td>\n      <td>...</td>\n      <td>...</td>\n      <td>...</td>\n      <td>...</td>\n      <td>...</td>\n      <td>...</td>\n      <td>...</td>\n      <td>...</td>\n      <td>...</td>\n      <td>...</td>\n      <td>...</td>\n      <td>...</td>\n      <td>...</td>\n      <td>...</td>\n      <td>...</td>\n    </tr>\n    <tr>\n      <th>1349808</th>\n      <td>199</td>\n      <td>33.4319</td>\n      <td>24.660</td>\n      <td>16.796</td>\n      <td>0.681103</td>\n      <td>28.50</td>\n      <td>20.50</td>\n      <td>11.910</td>\n      <td>9.877</td>\n      <td>0.829303</td>\n      <td>...</td>\n      <td>20221022</td>\n      <td>2022</td>\n      <td>10</td>\n      <td>42</td>\n      <td>22</td>\n      <td>23</td>\n      <td>127</td>\n      <td>92</td>\n      <td>140</td>\n      <td>20</td>\n    </tr>\n    <tr>\n      <th>1349809</th>\n      <td>200</td>\n      <td>43.1974</td>\n      <td>0.000</td>\n      <td>0.000</td>\n      <td>NaN</td>\n      <td>0.00</td>\n      <td>0.00</td>\n      <td>0.000</td>\n      <td>0.000</td>\n      <td>NaN</td>\n      <td>...</td>\n      <td>20221022</td>\n      <td>2022</td>\n      <td>10</td>\n      <td>42</td>\n      <td>22</td>\n      <td>23</td>\n      <td>127</td>\n      <td>92</td>\n      <td>140</td>\n      <td>20</td>\n    </tr>\n    <tr>\n      <th>1349810</th>\n      <td>212</td>\n      <td>2.5000</td>\n      <td>23.074</td>\n      <td>22.407</td>\n      <td>0.971261</td>\n      <td>29.30</td>\n      <td>18.29</td>\n      <td>7.887</td>\n      <td>11.534</td>\n      <td>1.461850</td>\n      <td>...</td>\n      <td>20221022</td>\n      <td>2022</td>\n      <td>10</td>\n      <td>42</td>\n      <td>22</td>\n      <td>23</td>\n      <td>127</td>\n      <td>92</td>\n      <td>140</td>\n      <td>20</td>\n    </tr>\n    <tr>\n      <th>1349811</th>\n      <td>213</td>\n      <td>39.1156</td>\n      <td>37.694</td>\n      <td>36.569</td>\n      <td>0.970257</td>\n      <td>60.80</td>\n      <td>24.40</td>\n      <td>9.182</td>\n      <td>13.432</td>\n      <td>1.463180</td>\n      <td>...</td>\n      <td>20221022</td>\n      <td>2022</td>\n      <td>10</td>\n      <td>42</td>\n      <td>22</td>\n      <td>23</td>\n      <td>127</td>\n      <td>92</td>\n      <td>140</td>\n      <td>20</td>\n    </tr>\n    <tr>\n      <th>1349812</th>\n      <td>217</td>\n      <td>16.4588</td>\n      <td>9.600</td>\n      <td>11.136</td>\n      <td>1.160000</td>\n      <td>9.60</td>\n      <td>9.60</td>\n      <td>7.100</td>\n      <td>8.946</td>\n      <td>1.260000</td>\n      <td>...</td>\n      <td>20221022</td>\n      <td>2022</td>\n      <td>10</td>\n      <td>42</td>\n      <td>22</td>\n      <td>23</td>\n      <td>127</td>\n      <td>92</td>\n      <td>140</td>\n      <td>20</td>\n    </tr>\n  </tbody>\n</table>\n<p>1349813 rows × 34 columns</p>\n</div>"
     },
     "execution_count": 6,
     "metadata": {},
     "output_type": "execute_result"
    }
   ],
   "source": [
    "df = pd.read_csv(path)\n",
    "df.head(50)"
   ],
   "metadata": {
    "collapsed": false,
    "ExecuteTime": {
     "end_time": "2023-05-15T06:34:53.293653900Z",
     "start_time": "2023-05-15T06:34:48.659562100Z"
    }
   }
  },
  {
   "cell_type": "code",
   "execution_count": 41,
   "outputs": [
    {
     "name": "stderr",
     "output_type": "stream",
     "text": [
      "C:\\Users\\VY72PC\\AppData\\Local\\Temp\\ipykernel_22336\\1093551307.py:8: FutureWarning: The default value of numeric_only in DataFrame.mean is deprecated. In a future version, it will default to False. In addition, specifying 'numeric_only=None' is deprecated. Select only valid columns or specify the value of numeric_only to silence this warning.\n",
      "  'No. of Observations': df[df[\"tag\"] == name].mean(),\n",
      "C:\\Users\\VY72PC\\AppData\\Local\\Temp\\ipykernel_22336\\1093551307.py:8: FutureWarning: The default value of numeric_only in DataFrame.mean is deprecated. In a future version, it will default to False. In addition, specifying 'numeric_only=None' is deprecated. Select only valid columns or specify the value of numeric_only to silence this warning.\n",
      "  'No. of Observations': df[df[\"tag\"] == name].mean(),\n",
      "C:\\Users\\VY72PC\\AppData\\Local\\Temp\\ipykernel_22336\\1093551307.py:8: FutureWarning: The default value of numeric_only in DataFrame.mean is deprecated. In a future version, it will default to False. In addition, specifying 'numeric_only=None' is deprecated. Select only valid columns or specify the value of numeric_only to silence this warning.\n",
      "  'No. of Observations': df[df[\"tag\"] == name].mean(),\n",
      "C:\\Users\\VY72PC\\AppData\\Local\\Temp\\ipykernel_22336\\1093551307.py:8: FutureWarning: The default value of numeric_only in DataFrame.mean is deprecated. In a future version, it will default to False. In addition, specifying 'numeric_only=None' is deprecated. Select only valid columns or specify the value of numeric_only to silence this warning.\n",
      "  'No. of Observations': df[df[\"tag\"] == name].mean(),\n",
      "C:\\Users\\VY72PC\\AppData\\Local\\Temp\\ipykernel_22336\\1093551307.py:8: FutureWarning: The default value of numeric_only in DataFrame.mean is deprecated. In a future version, it will default to False. In addition, specifying 'numeric_only=None' is deprecated. Select only valid columns or specify the value of numeric_only to silence this warning.\n",
      "  'No. of Observations': df[df[\"tag\"] == name].mean(),\n",
      "C:\\Users\\VY72PC\\AppData\\Local\\Temp\\ipykernel_22336\\1093551307.py:8: FutureWarning: The default value of numeric_only in DataFrame.mean is deprecated. In a future version, it will default to False. In addition, specifying 'numeric_only=None' is deprecated. Select only valid columns or specify the value of numeric_only to silence this warning.\n",
      "  'No. of Observations': df[df[\"tag\"] == name].mean(),\n",
      "C:\\Users\\VY72PC\\AppData\\Local\\Temp\\ipykernel_22336\\1093551307.py:8: FutureWarning: The default value of numeric_only in DataFrame.mean is deprecated. In a future version, it will default to False. In addition, specifying 'numeric_only=None' is deprecated. Select only valid columns or specify the value of numeric_only to silence this warning.\n",
      "  'No. of Observations': df[df[\"tag\"] == name].mean(),\n",
      "C:\\Users\\VY72PC\\AppData\\Local\\Temp\\ipykernel_22336\\1093551307.py:8: FutureWarning: The default value of numeric_only in DataFrame.mean is deprecated. In a future version, it will default to False. In addition, specifying 'numeric_only=None' is deprecated. Select only valid columns or specify the value of numeric_only to silence this warning.\n",
      "  'No. of Observations': df[df[\"tag\"] == name].mean(),\n",
      "C:\\Users\\VY72PC\\AppData\\Local\\Temp\\ipykernel_22336\\1093551307.py:8: FutureWarning: The default value of numeric_only in DataFrame.mean is deprecated. In a future version, it will default to False. In addition, specifying 'numeric_only=None' is deprecated. Select only valid columns or specify the value of numeric_only to silence this warning.\n",
      "  'No. of Observations': df[df[\"tag\"] == name].mean(),\n",
      "C:\\Users\\VY72PC\\AppData\\Local\\Temp\\ipykernel_22336\\1093551307.py:8: FutureWarning: The default value of numeric_only in DataFrame.mean is deprecated. In a future version, it will default to False. In addition, specifying 'numeric_only=None' is deprecated. Select only valid columns or specify the value of numeric_only to silence this warning.\n",
      "  'No. of Observations': df[df[\"tag\"] == name].mean(),\n",
      "C:\\Users\\VY72PC\\AppData\\Local\\Temp\\ipykernel_22336\\1093551307.py:8: FutureWarning: The default value of numeric_only in DataFrame.mean is deprecated. In a future version, it will default to False. In addition, specifying 'numeric_only=None' is deprecated. Select only valid columns or specify the value of numeric_only to silence this warning.\n",
      "  'No. of Observations': df[df[\"tag\"] == name].mean(),\n"
     ]
    }
   ],
   "source": [
    "descriptive = list()\n",
    "\n",
    "for i, name in enumerate(df['tag'].unique()):\n",
    "    descriptive.append({\n",
    "        'Municipality': name,\n",
    "        'No. of Sensors': len(df[df[\"tag\"] == name][\"id\"].unique()),\n",
    "        'No. of Streets': len(df[df[\"tag\"] == name][\"name\"].unique()),\n",
    "        'No. of Observations': df[df[\"tag\"] == name].mean(),\n",
    "        'Average Longitude': df[df[\"tag\"] == name][\"longitude\"].mean(),\n",
    "        'Average latitude': len(df[df[\"tag\"] == name][\"latitude\"])\n",
    "    })\n",
    "descriptive = pd.DataFrame(descriptive)"
   ],
   "metadata": {
    "collapsed": false,
    "ExecuteTime": {
     "end_time": "2023-05-15T08:30:32.145168700Z",
     "start_time": "2023-05-15T07:30:12.715802700Z"
    }
   }
  },
  {
   "cell_type": "code",
   "execution_count": 42,
   "outputs": [
    {
     "name": "stderr",
     "output_type": "stream",
     "text": [
      "C:\\Users\\VY72PC\\AppData\\Local\\Temp\\ipykernel_22336\\2087719265.py:1: FutureWarning: In future versions `DataFrame.to_latex` is expected to utilise the base implementation of `Styler.to_latex` for formatting and rendering. The arguments signature may therefore change. It is recommended instead to use `DataFrame.style.to_latex` which also contains additional functionality.\n",
      "  descriptive.to_latex(index=False, float_format=\"{{:0.2f}}\".format)\n"
     ]
    },
    {
     "data": {
      "text/plain": "'\\\\begin{tabular}{lrrlrr}\\n\\\\toprule\\n    Municipality &  No. of Sensors &  No. of Streets &                                No. of Observations &  Average Longitude &  Average latitude \\\\\\\\\\n\\\\midrule\\n       Beverwijk &              26 &              23 & id            7.423827e+01\\nno2          -2.2371... &            \\\\{:0.2f\\\\} &            323822 \\\\\\\\\\n       Heemskerk &              11 &              10 & id            1.254179e+02\\nno2          -1.2342... &            \\\\{:0.2f\\\\} &            153985 \\\\\\\\\\n    Velsen-Noord &               4 &               4 & id            9.257331e+01\\nno2          -9.9900... &            \\\\{:0.2f\\\\} &             52202 \\\\\\\\\\n    Wijk aan Zee &              13 &               8 & id            1.266497e+02\\nno2          -1.4771... &            \\\\{:0.2f\\\\} &            125228 \\\\\\\\\\n        IJmuiden &              12 &              10 & id            1.094089e+02\\nno2          -7.4578... &            \\\\{:0.2f\\\\} &            144191 \\\\\\\\\\n        Driehuis &               4 &               3 & id            1.074369e+02\\nno2          -6.2337... &            \\\\{:0.2f\\\\} &             53276 \\\\\\\\\\n       Amsterdam &              21 &              16 & id            1.463108e+02\\nno2          -1.1105... &            \\\\{:0.2f\\\\} &            313914 \\\\\\\\\\n         Zaandam &              11 &               9 & id            1.675510e+02\\nno2          -5.6757... &            \\\\{:0.2f\\\\} &            150295 \\\\\\\\\\nKoog aan de Zaan &               1 &               1 & id            2.150000e+02\\nno2           2.2995... &            \\\\{:0.2f\\\\} &             11233 \\\\\\\\\\n     Velsen-Zuid &               1 &               1 & id            1.950000e+02\\nno2          -5.2758... &            \\\\{:0.2f\\\\} &             13572 \\\\\\\\\\n        Uithoorn &               1 &               1 & id            6.000000e+00\\nno2                 ... &            \\\\{:0.2f\\\\} &              8095 \\\\\\\\\\n\\\\bottomrule\\n\\\\end{tabular}\\n'"
     },
     "execution_count": 42,
     "metadata": {},
     "output_type": "execute_result"
    }
   ],
   "source": [
    "descriptive.to_latex(index=False, float_format=\"{{:0.2f}}\".format)"
   ],
   "metadata": {
    "collapsed": false,
    "ExecuteTime": {
     "end_time": "2023-05-15T08:30:32.225778500Z",
     "start_time": "2023-05-15T08:30:32.149174Z"
    }
   }
  }
 ],
 "metadata": {
  "kernelspec": {
   "display_name": "Python 3",
   "language": "python",
   "name": "python3"
  },
  "language_info": {
   "codemirror_mode": {
    "name": "ipython",
    "version": 2
   },
   "file_extension": ".py",
   "mimetype": "text/x-python",
   "name": "python",
   "nbconvert_exporter": "python",
   "pygments_lexer": "ipython2",
   "version": "2.7.6"
  }
 },
 "nbformat": 4,
 "nbformat_minor": 0
}
