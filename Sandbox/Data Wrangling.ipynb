{
 "cells": [
  {
   "cell_type": "code",
   "execution_count": 1,
   "outputs": [],
   "source": [
    "from __future__ import annotations\n",
    "\n",
    "from fancyimpute import IterativeImputer\n",
    "import matplotlib.gridspec as gridspec\n",
    "from SpiPy.RunFlow.Backbone import *\n",
    "import matplotlib.pyplot as plt\n",
    "from pandas import DataFrame\n",
    "from hampel import hampel\n",
    "import seaborn as sns"
   ],
   "metadata": {
    "collapsed": false,
    "ExecuteTime": {
     "end_time": "2023-05-26T16:13:39.115460Z",
     "start_time": "2023-05-26T16:13:38.142973Z"
    }
   }
  },
  {
   "cell_type": "code",
   "execution_count": 2,
   "outputs": [
    {
     "name": "stderr",
     "output_type": "stream",
     "text": [
      "/Users/main/Vault/Thesis/Code/SpiPy/RunFlow/Backbone.py:156: FutureWarning: The default value of numeric_only in DataFrameGroupBy.median is deprecated. In a future version, numeric_only will default to False. Either specify numeric_only or select only columns which should be valid for the function.\n",
      "  grouped_df = self.raw_data.groupby(by=[self.geo_lev, self.time_lev]).median().copy().reset_index()\n",
      "/Users/main/opt/miniconda3/envs/Thesis/lib/python3.9/site-packages/sklearn/impute/_iterative.py:785: ConvergenceWarning: [IterativeImputer] Early stopping criterion not reached.\n",
      "  warnings.warn(\n",
      "/Users/main/opt/miniconda3/envs/Thesis/lib/python3.9/site-packages/sklearn/impute/_iterative.py:785: ConvergenceWarning: [IterativeImputer] Early stopping criterion not reached.\n",
      "  warnings.warn(\n"
     ]
    },
    {
     "name": "stdout",
     "output_type": "stream",
     "text": [
      "18668\n"
     ]
    },
    {
     "name": "stderr",
     "output_type": "stream",
     "text": [
      "/Users/main/Vault/Thesis/Code/SpiPy/Utils/SpatialTools.py:77: RuntimeWarning: divide by zero encountered in reciprocal\n",
      "  abs(reciprocal(w_matrix)))\n",
      "/Users/main/Vault/Thesis/Code/SpiPy/Utils/SpatialTools.py:81: ComplexWarning: Casting complex values to real discards the imaginary part\n",
      "  ww_tensor[i, :, :] = ww_tensor[i, :, :] / max(eigvals(ww_tensor[i, :, :]))\n",
      "/Users/main/Vault/Thesis/Code/SpiPy/Utils/SpatialTools.py:77: RuntimeWarning: divide by zero encountered in reciprocal\n",
      "  abs(reciprocal(w_matrix)))\n",
      "/Users/main/Vault/Thesis/Code/SpiPy/Utils/SpatialTools.py:81: ComplexWarning: Casting complex values to real discards the imaginary part\n",
      "  ww_tensor[i, :, :] = ww_tensor[i, :, :] / max(eigvals(ww_tensor[i, :, :]))\n"
     ]
    }
   ],
   "source": [
    "df = RunFlow(\n",
    "    save_data=False,\n",
    "    bWorkLaptop=False,\n",
    "    geo_level=\"municipality\",\n",
    "    time_interval=\"hours\"\n",
    ")\n",
    "df.run()"
   ],
   "metadata": {
    "collapsed": false,
    "ExecuteTime": {
     "end_time": "2023-05-26T16:16:02.475373Z",
     "start_time": "2023-05-26T16:13:39.115985Z"
    }
   }
  },
  {
   "cell_type": "code",
   "execution_count": 3,
   "outputs": [
    {
     "data": {
      "text/plain": "(6223, 7)"
     },
     "execution_count": 3,
     "metadata": {},
     "output_type": "execute_result"
    }
   ],
   "source": [
    "df.test_data.pollution.shape"
   ],
   "metadata": {
    "collapsed": false,
    "ExecuteTime": {
     "end_time": "2023-05-26T16:16:02.488520Z",
     "start_time": "2023-05-26T16:16:02.483550Z"
    }
   }
  },
  {
   "cell_type": "code",
   "execution_count": null,
   "outputs": [],
   "source": [
    "imp = IterativeImputer(max_iter=10, random_state=0)\n",
    "imp.fit(df.processed_data.pollution.iloc[2000:])\n",
    "df.processed_data.pollution = DataFrame(imp.transform(df.processed_data.pollution.iloc[2000:]))"
   ],
   "metadata": {
    "collapsed": false
   }
  },
  {
   "cell_type": "code",
   "execution_count": null,
   "outputs": [],
   "source": [
    "for column in df.processed_data.pollution:\n",
    "    df.processed_data.pollution[column] = hampel(df.processed_data.pollution[column], window_size=3, n=3, imputation=True)"
   ],
   "metadata": {
    "collapsed": false
   }
  },
  {
   "cell_type": "code",
   "execution_count": null,
   "outputs": [],
   "source": [
    "sns.set_theme()\n",
    "colors = ['tab:blue', 'tab:orange', 'tab:green', 'tab:red', 'tab:purple', 'tab:brown', 'tab:pink', 'tab:gray']\n",
    "gs = gridspec.GridSpec(3, 3)\n",
    "fig = plt.figure(figsize=(60, 40))\n",
    "\n",
    "axes = []\n",
    "for i in range(7):\n",
    "    row = i // 3\n",
    "    col = i % 3\n",
    "    axes.append(fig.add_subplot(gs[row, col]))\n",
    "\n",
    "axes.append(fig.add_subplot(gs[2, 1:]))\n",
    "\n",
    "for ax, col_name, color in zip(axes, df.processed_data.pollution.columns, colors):\n",
    "    sns.lineplot(data=df.processed_data.pollution[col_name].dropna(), ax=ax, color=color, linewidth=1.5)\n",
    "    ax.set_xticks(df.processed_data.pollution.index[::4000])\n",
    "    ax.set_xticklabels(df.processed_data.pollution.index[::4000], rotation=25)\n",
    "    ax.set_title(col_name, fontsize=16)\n",
    "    ax.set_xlabel('Time', fontsize=12)\n",
    "    ax.set_ylabel('Pollution Level', fontsize=12)\n",
    "    ax.grid(True)\n",
    "\n",
    "axes[-1].plot(df.processed_data.pollution, label=df.processed_data.pollution.columns)\n",
    "axes[-1].legend(df.processed_data.pollution.columns)\n",
    "axes[-1].set_title('Pollution Levels', fontsize=16)\n",
    "\n",
    "plt.tight_layout()\n",
    "plt.savefig('Pol4.png')\n",
    "plt.show()"
   ],
   "metadata": {
    "collapsed": false
   }
  },
  {
   "cell_type": "code",
   "execution_count": null,
   "outputs": [],
   "source": [],
   "metadata": {
    "collapsed": false
   }
  }
 ],
 "metadata": {
  "kernelspec": {
   "display_name": "Python 3",
   "language": "python",
   "name": "python3"
  },
  "language_info": {
   "codemirror_mode": {
    "name": "ipython",
    "version": 2
   },
   "file_extension": ".py",
   "mimetype": "text/x-python",
   "name": "python",
   "nbconvert_exporter": "python",
   "pygments_lexer": "ipython2",
   "version": "2.7.6"
  }
 },
 "nbformat": 4,
 "nbformat_minor": 0
}
