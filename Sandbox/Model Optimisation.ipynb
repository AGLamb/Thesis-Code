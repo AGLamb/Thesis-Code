{
 "cells": [
  {
   "cell_type": "code",
   "execution_count": null,
   "metadata": {},
   "outputs": [],
   "source": [
    "from numpy import load, linspace\n",
    "from SpiPy.Models.SAR import *\n",
    "from DTO.Database import *"
   ]
  },
  {
   "cell_type": "code",
   "execution_count": null,
   "outputs": [],
   "source": [
    "db_manager = HLDatabase(bWorkLaptop=True)\n",
    "pollution = db_manager.get_table(table_name='Train-Pollution')\n",
    "pollution.set_index('Date', inplace=True, drop=True)\n",
    "mSpatial = db_manager.get_table(table_name='Train-Weight Matrix')\n",
    "mSpatial = mSpatial.drop(labels='index', axis=1)\n",
    "\n",
    "tWind = load(r\"../DTO/train_tWind.npy\")\n",
    "tZ = load(r\"../DTO/train_tZ.npy\")"
   ],
   "metadata": {
    "collapsed": false
   }
  },
  {
   "cell_type": "code",
   "execution_count": null,
   "outputs": [],
   "source": [
    "N = len(pollution.columns)\n",
    "initial_params = [0.5]*N + [0.2] + [0.5] + list(pollution.var().values)\n",
    "bounds = [(-1, 1)]*N + [(-1, 1)] + [(0, 1)] + [(1, 1000)]*N\n",
    "zeta_values = linspace(0, 1, 11)"
   ],
   "metadata": {
    "collapsed": false
   }
  },
  {
   "cell_type": "code",
   "execution_count": null,
   "outputs": [],
   "source": [
    "tZ_1 = tZ[8000:9000, :, :]\n",
    "pollution_1 = pollution.values[8000:9000, :]\n",
    "tWind_1 = tWind[8000:9000, :, :]"
   ],
   "metadata": {
    "collapsed": false
   }
  },
  {
   "cell_type": "code",
   "execution_count": null,
   "outputs": [],
   "source": [
    "optimizer = QMLEOptimizerWithZetaGridSearch(\n",
    "    initial_params=initial_params,\n",
    "    bounds=bounds,\n",
    "    zeta_values=zeta_values,\n",
    "    weight_matrix=mSpatial,\n",
    "    wind_tensor=tWind_1,\n",
    "    exog=pollution_1,\n",
    "    Z=tZ_1\n",
    ")\n",
    "\n",
    "optimizer.fit()\n",
    "best_params = optimizer.get_best_params()\n",
    "\n",
    "print(\"Best Parameters:\")\n",
    "print(\"alpha:\", best_params[N])\n",
    "print(\"rho:\", best_params[N+1])\n",
    "print(\"zeta:\", best_params[-1])\n",
    "print(\"phi:\", best_params[:N])\n",
    "print(\"Sigma:\", best_params[N+2:-1])"
   ],
   "metadata": {
    "collapsed": false
   }
  }
 ],
 "metadata": {
  "kernelspec": {
   "display_name": "Python 3 (ipykernel)",
   "language": "python",
   "name": "python3"
  },
  "language_info": {
   "codemirror_mode": {
    "name": "ipython",
    "version": 3
   },
   "file_extension": ".py",
   "mimetype": "text/x-python",
   "name": "python",
   "nbconvert_exporter": "python",
   "pygments_lexer": "ipython3",
   "version": "3.10.9"
  }
 },
 "nbformat": 4,
 "nbformat_minor": 1
}
