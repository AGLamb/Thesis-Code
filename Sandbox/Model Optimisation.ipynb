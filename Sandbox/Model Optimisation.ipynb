{
 "cells": [
  {
   "cell_type": "code",
   "execution_count": 5,
   "metadata": {
    "ExecuteTime": {
     "end_time": "2023-05-27T17:08:29.210674Z",
     "start_time": "2023-05-27T17:08:28.254474Z"
    }
   },
   "outputs": [],
   "source": [
    "import matplotlib.pyplot as plt\n",
    "import statsmodels.api as sm\n",
    "from SpiPy.Models.SAR import *\n",
    "from DTO.Database import *\n",
    "from numpy import load"
   ]
  },
  {
   "cell_type": "code",
   "execution_count": 3,
   "outputs": [],
   "source": [
    "db_manager = HLDatabase(bWorkLaptop=False)\n",
    "pollution = db_manager.get_table(table_name='Train-Pollution')\n",
    "# pollution.drop(labels='Da', axis=1, inplace=True)\n",
    "mSpatial = db_manager.get_table(table_name='Train-Weight Matrix')\n",
    "mSpatial.drop(labels='index', axis=1, inplace=True)\n",
    "\n",
    "tWind = load(r\"../DTO/train_tWind.npy\")\n",
    "tZ = load(r\"../DTO/train_tY.npy\")"
   ],
   "metadata": {
    "collapsed": false,
    "ExecuteTime": {
     "end_time": "2023-05-27T17:07:24.043177Z",
     "start_time": "2023-05-27T17:07:23.896249Z"
    }
   }
  },
  {
   "cell_type": "code",
   "execution_count": 3,
   "outputs": [],
   "source": [
    "N = len(pollution.columns)\n",
    "initial_params = [0.19, -0.20, 0.31, -0.43, 0.50, -0.66, 0.44]\n",
    "initial_params += list(pollution.var().values)\n",
    "initial_params += list(pollution.mean().values)\n",
    "initial_params += [0.21]\n",
    "initial_params += [-0.8]\n",
    "initial_params += [0.33]\n",
    "initial_params += [2.00]\n",
    "initial_params += [5.05]"
   ],
   "metadata": {
    "collapsed": false,
    "ExecuteTime": {
     "end_time": "2023-05-27T14:16:55.703674Z",
     "start_time": "2023-05-27T14:16:55.694086Z"
    }
   }
  },
  {
   "cell_type": "code",
   "execution_count": 4,
   "outputs": [],
   "source": [
    "bounds = [(-1, 1)] * N               # Phi\n",
    "bounds += [(1, 1000)] * N            # Sigma\n",
    "bounds += [(0, 1000)] * N            # Mu\n",
    "bounds += [(-100, 100)]              # Alpha\n",
    "bounds += [(-100, 100)]              # Rho\n",
    "bounds += [(0, 1)]                   # Zeta\n",
    "bounds += [(-100, 100)] * 2          # Beta and Gamma"
   ],
   "metadata": {
    "collapsed": false,
    "ExecuteTime": {
     "end_time": "2023-05-27T14:16:55.708917Z",
     "start_time": "2023-05-27T14:16:55.702875Z"
    }
   }
  },
  {
   "cell_type": "code",
   "execution_count": null,
   "outputs": [],
   "source": [
    "optimizer = QMLEOptimizer(\n",
    "    initial_params=initial_params,\n",
    "    weight_matrix=mSpatial,\n",
    "    wind_tensor=tWind,\n",
    "    exog=pollution,\n",
    "    bounds=bounds,\n",
    ")\n",
    "\n",
    "optimizer.fit()\n",
    "best_params = optimizer.get_best_params()\n",
    "\n",
    "print(\"Best Parameters:\")\n",
    "print(\"Alpha:\",      best_params[-5])\n",
    "print(\"Rho:\",        best_params[-4])\n",
    "print(\"Zeta:\",       best_params[-3])\n",
    "print(\"Beta:\",       best_params[-2])\n",
    "print(\"Gamma:\",      best_params[-1])\n",
    "print(\"Phi:\",        best_params[:N])\n",
    "print(\"Sigma:\",   best_params[N:2*N])\n",
    "print(\"Mu:\",    best_params[2*N:3*N])"
   ],
   "metadata": {
    "collapsed": false
   }
  }
 ],
 "metadata": {
  "kernelspec": {
   "display_name": "Python 3 (ipykernel)",
   "language": "python",
   "name": "python3"
  },
  "language_info": {
   "codemirror_mode": {
    "name": "ipython",
    "version": 3
   },
   "file_extension": ".py",
   "mimetype": "text/x-python",
   "name": "python",
   "nbconvert_exporter": "python",
   "pygments_lexer": "ipython3",
   "version": "3.10.9"
  }
 },
 "nbformat": 4,
 "nbformat_minor": 1
}
