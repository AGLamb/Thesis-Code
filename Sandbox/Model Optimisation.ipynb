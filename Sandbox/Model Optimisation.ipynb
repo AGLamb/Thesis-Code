{
 "cells": [
  {
   "cell_type": "code",
   "execution_count": 1,
   "metadata": {
    "is_executing": true
   },
   "outputs": [],
   "source": [
    "from numpy import load, linspace, diag, eye, inf, fill_diagonal, dot, linalg\n",
    "from SpiPy.Models.SAR import *\n",
    "from DTO.Database import *"
   ]
  },
  {
   "cell_type": "code",
   "execution_count": 2,
   "metadata": {},
   "outputs": [],
   "source": [
    "db_manager = HLDatabase()\n",
    "pollution = db_manager.get_table(table_name='Train-Pollution')\n",
    "pollution.set_index('Date', inplace=True, drop=True)"
   ]
  },
  {
   "cell_type": "code",
   "execution_count": 3,
   "metadata": {},
   "outputs": [],
   "source": [
    "mSpatial = db_manager.get_table(table_name='Train-Weight Matrix')\n",
    "tWind = load(r\"../DTO/train_tWind.npy\")\n",
    "tZ = load(r\"../DTO/train_tZ.npy\")"
   ]
  },
  {
   "cell_type": "code",
   "execution_count": 4,
   "metadata": {},
   "outputs": [
    {
     "data": {
      "text/plain": [
       "(13406, 7)"
      ]
     },
     "execution_count": 4,
     "metadata": {},
     "output_type": "execute_result"
    }
   ],
   "source": [
    "pollution.values.shape"
   ]
  },
  {
   "cell_type": "code",
   "execution_count": 5,
   "metadata": {},
   "outputs": [
    {
     "data": {
      "text/plain": [
       "(13406, 7, 7)"
      ]
     },
     "execution_count": 5,
     "metadata": {},
     "output_type": "execute_result"
    }
   ],
   "source": [
    "tZ.shape"
   ]
  },
  {
   "cell_type": "code",
   "execution_count": 6,
   "metadata": {},
   "outputs": [
    {
     "data": {
      "text/plain": [
       "(13406, 7, 7)"
      ]
     },
     "execution_count": 6,
     "metadata": {},
     "output_type": "execute_result"
    }
   ],
   "source": [
    "tWind.shape"
   ]
  },
  {
   "cell_type": "code",
   "execution_count": 7,
   "metadata": {
    "scrolled": true
   },
   "outputs": [],
   "source": [
    "mSpatial = mSpatial.drop(labels='index', axis=1)"
   ]
  },
  {
   "cell_type": "code",
   "execution_count": 8,
   "metadata": {},
   "outputs": [],
   "source": [
    "N = len(pollution.columns)\n",
    "initial_params = [0.5]*N + [0.2] + [0.5] + [1]*N  \n",
    "bounds = [(-1, 1)]*N + [(-1, 1)] + [(0, 1)] + [(-10000, 10000)]*N\n",
    "zeta_values = linspace(0, 1, 11)"
   ]
  },
  {
   "cell_type": "code",
   "execution_count": 9,
   "metadata": {},
   "outputs": [
    {
     "name": "stderr",
     "output_type": "stream",
     "text": [
      "C:\\Users\\VY72PC\\PycharmProjects\\Academia\\Thesis-Code\\SpiPy\\Models\\SAR.py:55: RuntimeWarning: divide by zero encountered in log\n",
      "  component1 = -0.5*log(Sigma) + log(A_t_minus_1) - 0.5 * dot(residual_t.T, dot(linalg.inv(Sigma), residual_t))\n"
     ]
    },
    {
     "name": "stdout",
     "output_type": "stream",
     "text": [
      "Unexpected exception formatting exception. Falling back to standard exception\n"
     ]
    },
    {
     "name": "stderr",
     "output_type": "stream",
     "text": [
      "Traceback (most recent call last):\n",
      "  File \"C:\\Users\\VY72PC\\AppData\\Roaming\\Python\\Python310\\site-packages\\scipy\\optimize\\_differentiable_functions.py\", line 141, in fun_wrapped\n",
      "    fx = np.asarray(fx).item()\n",
      "ValueError: can only convert an array of size 1 to a Python scalar\n",
      "\n",
      "The above exception was the direct cause of the following exception:\n",
      "\n",
      "Traceback (most recent call last):\n",
      "  File \"C:\\Users\\VY72PC\\.conda\\envs\\Thesis-Code\\lib\\site-packages\\IPython\\core\\interactiveshell.py\", line 3505, in run_code\n",
      "    exec(code_obj, self.user_global_ns, self.user_ns)\n",
      "  File \"C:\\Users\\VY72PC\\AppData\\Local\\Temp\\ipykernel_25024\\4271825615.py\", line 13, in <module>\n",
      "    optimizer.fit()\n",
      "  File \"C:\\Users\\VY72PC\\PycharmProjects\\Academia\\Thesis-Code\\SpiPy\\Models\\SAR.py\", line 69, in fit\n",
      "  File \"C:\\Users\\VY72PC\\AppData\\Roaming\\Python\\Python310\\site-packages\\scipy\\optimize\\_minimize.py\", line 696, in minimize\n",
      "    res = _minimize_lbfgsb(fun, x0, args, jac, bounds,\n",
      "  File \"C:\\Users\\VY72PC\\AppData\\Roaming\\Python\\Python310\\site-packages\\scipy\\optimize\\_lbfgsb_py.py\", line 305, in _minimize_lbfgsb\n",
      "    sf = _prepare_scalar_function(fun, x0, jac=jac, args=args, epsilon=eps,\n",
      "  File \"C:\\Users\\VY72PC\\AppData\\Roaming\\Python\\Python310\\site-packages\\scipy\\optimize\\_optimize.py\", line 332, in _prepare_scalar_function\n",
      "    sf = ScalarFunction(fun, x0, args, grad, hess,\n",
      "  File \"C:\\Users\\VY72PC\\AppData\\Roaming\\Python\\Python310\\site-packages\\scipy\\optimize\\_differentiable_functions.py\", line 158, in __init__\n",
      "    self._update_fun()\n",
      "  File \"C:\\Users\\VY72PC\\AppData\\Roaming\\Python\\Python310\\site-packages\\scipy\\optimize\\_differentiable_functions.py\", line 251, in _update_fun\n",
      "    self._update_fun_impl()\n",
      "  File \"C:\\Users\\VY72PC\\AppData\\Roaming\\Python\\Python310\\site-packages\\scipy\\optimize\\_differentiable_functions.py\", line 155, in update_fun\n",
      "    self.f = fun_wrapped(self.x)\n",
      "  File \"C:\\Users\\VY72PC\\AppData\\Roaming\\Python\\Python310\\site-packages\\scipy\\optimize\\_differentiable_functions.py\", line 143, in fun_wrapped\n",
      "    raise ValueError(\n",
      "ValueError: The user-provided objective function must return a scalar value.\n",
      "\n",
      "During handling of the above exception, another exception occurred:\n",
      "\n",
      "Traceback (most recent call last):\n",
      "  File \"C:\\Users\\VY72PC\\.conda\\envs\\Thesis-Code\\lib\\site-packages\\IPython\\core\\interactiveshell.py\", line 2102, in showtraceback\n",
      "    stb = self.InteractiveTB.structured_traceback(\n",
      "  File \"C:\\Users\\VY72PC\\.conda\\envs\\Thesis-Code\\lib\\site-packages\\IPython\\core\\ultratb.py\", line 1310, in structured_traceback\n",
      "    return FormattedTB.structured_traceback(\n",
      "  File \"C:\\Users\\VY72PC\\.conda\\envs\\Thesis-Code\\lib\\site-packages\\IPython\\core\\ultratb.py\", line 1199, in structured_traceback\n",
      "    return VerboseTB.structured_traceback(\n",
      "  File \"C:\\Users\\VY72PC\\.conda\\envs\\Thesis-Code\\lib\\site-packages\\IPython\\core\\ultratb.py\", line 1052, in structured_traceback\n",
      "    formatted_exception = self.format_exception_as_a_whole(etype, evalue, etb, number_of_lines_of_context,\n",
      "  File \"C:\\Users\\VY72PC\\.conda\\envs\\Thesis-Code\\lib\\site-packages\\IPython\\core\\ultratb.py\", line 978, in format_exception_as_a_whole\n",
      "    frames.append(self.format_record(record))\n",
      "  File \"C:\\Users\\VY72PC\\.conda\\envs\\Thesis-Code\\lib\\site-packages\\IPython\\core\\ultratb.py\", line 878, in format_record\n",
      "    frame_info.lines, Colors, self.has_colors, lvals\n",
      "  File \"C:\\Users\\VY72PC\\.conda\\envs\\Thesis-Code\\lib\\site-packages\\IPython\\core\\ultratb.py\", line 712, in lines\n",
      "    return self._sd.lines\n",
      "  File \"C:\\Users\\VY72PC\\.conda\\envs\\Thesis-Code\\lib\\site-packages\\stack_data\\utils.py\", line 145, in cached_property_wrapper\n",
      "    value = obj.__dict__[self.func.__name__] = self.func(obj)\n",
      "  File \"C:\\Users\\VY72PC\\.conda\\envs\\Thesis-Code\\lib\\site-packages\\stack_data\\core.py\", line 698, in lines\n",
      "    pieces = self.included_pieces\n",
      "  File \"C:\\Users\\VY72PC\\.conda\\envs\\Thesis-Code\\lib\\site-packages\\stack_data\\utils.py\", line 145, in cached_property_wrapper\n",
      "    value = obj.__dict__[self.func.__name__] = self.func(obj)\n",
      "  File \"C:\\Users\\VY72PC\\.conda\\envs\\Thesis-Code\\lib\\site-packages\\stack_data\\core.py\", line 649, in included_pieces\n",
      "    pos = scope_pieces.index(self.executing_piece)\n",
      "  File \"C:\\Users\\VY72PC\\.conda\\envs\\Thesis-Code\\lib\\site-packages\\stack_data\\utils.py\", line 145, in cached_property_wrapper\n",
      "    value = obj.__dict__[self.func.__name__] = self.func(obj)\n",
      "  File \"C:\\Users\\VY72PC\\.conda\\envs\\Thesis-Code\\lib\\site-packages\\stack_data\\core.py\", line 628, in executing_piece\n",
      "    return only(\n",
      "  File \"C:\\Users\\VY72PC\\.conda\\envs\\Thesis-Code\\lib\\site-packages\\executing\\executing.py\", line 164, in only\n",
      "    raise NotOneValueFound('Expected one value, found 0')\n",
      "executing.executing.NotOneValueFound: Expected one value, found 0\n"
     ]
    }
   ],
   "source": [
    "# Create an instance of the optimizer\n",
    "optimizer = QMLEOptimizerWithZetaGridSearch(\n",
    "    initial_params=initial_params,\n",
    "    bounds=bounds,\n",
    "    zeta_values=zeta_values,\n",
    "    weight_matrix=mSpatial,\n",
    "    wind_tensor=tWind,\n",
    "    exog=pollution,\n",
    "    Z=tZ\n",
    ")\n",
    "\n",
    "# Fit the model using grid search and maximum likelihood estimation\n",
    "optimizer.fit()\n",
    "\n",
    "# Retrieve the best parameters\n",
    "best_params = optimizer.get_best_params()\n",
    "\n",
    "\n",
    "print(\"Best Parameters:\")\n",
    "print(\"phi:\", best_params[0])\n",
    "print(\"alpha:\", best_params[1])\n",
    "print(\"rho:\", best_params[2])\n",
    "print(\"zeta:\", best_params[3])\n",
    "print(\"Sigma:\", best_params[4])"
   ]
  },
  {
   "cell_type": "code",
   "execution_count": null,
   "metadata": {},
   "outputs": [],
   "source": []
  }
 ],
 "metadata": {
  "kernelspec": {
   "display_name": "Python 3 (ipykernel)",
   "language": "python",
   "name": "python3"
  },
  "language_info": {
   "codemirror_mode": {
    "name": "ipython",
    "version": 3
   },
   "file_extension": ".py",
   "mimetype": "text/x-python",
   "name": "python",
   "nbconvert_exporter": "python",
   "pygments_lexer": "ipython3",
   "version": "3.10.9"
  }
 },
 "nbformat": 4,
 "nbformat_minor": 1
}
