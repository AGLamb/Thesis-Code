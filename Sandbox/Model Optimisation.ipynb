{
 "cells": [
  {
   "cell_type": "code",
   "execution_count": null,
   "metadata": {
    "collapsed": true
   },
   "outputs": [],
   "source": [
    "from numpy import load, linspace, diag, ones\n",
    "from SpiPy.Models.SAR import *\n",
    "from DTO.Database import *"
   ]
  },
  {
   "cell_type": "code",
   "execution_count": null,
   "metadata": {},
   "outputs": [],
   "source": [
    "db_manager = HLDatabase()\n",
    "pollution = db_manager.get_table(table_name='Train-Pollution')\n",
    "pollution.set_index('Date', inplace=True, drop=True)"
   ]
  },
  {
   "cell_type": "code",
   "execution_count": null,
   "metadata": {},
   "outputs": [],
   "source": [
    "mSpatial = db_manager.get_table(table_name='Train-Weight Matrix')\n",
    "tWind = load(r\"../DTO/train_tWind.npy\")\n",
    "tZ = load(r\"../DTO/train_tZ.npy\")"
   ]
  },
  {
   "cell_type": "code",
   "execution_count": null,
   "outputs": [],
   "source": [
    "mle = MLEOptimizerWithZetaGridSearch(\n",
    "    initial_params=[\n",
    "        diag([0.5]*len(pollution.columns)),\n",
    "        0.3,\n",
    "        0.3,\n",
    "        diag(ones(len(pollution.columns)))\n",
    "    ],\n",
    "    bounds=[(0,1), None, None],\n",
    "    zeta_values=linspace(0, 1, 10),\n",
    "    weight_matrix=mSpatial,\n",
    "    wind_tensor=tWind,\n",
    "    exog=pollution,\n",
    "    Z=tZ\n",
    ")\n",
    "mle.fit()\n",
    "\n",
    "best_params = mle.get_best_params()\n",
    "print(f\"Best parameters: {best_params}\")"
   ],
   "metadata": {
    "collapsed": false
   }
  }
 ],
 "metadata": {
  "kernelspec": {
   "display_name": "Python 3 (ipykernel)",
   "language": "python",
   "name": "python3"
  },
  "language_info": {
   "codemirror_mode": {
    "name": "ipython",
    "version": 3
   },
   "file_extension": ".py",
   "mimetype": "text/x-python",
   "name": "python",
   "nbconvert_exporter": "python",
   "pygments_lexer": "ipython3",
   "version": "3.10.9"
  }
 },
 "nbformat": 4,
 "nbformat_minor": 1
}
