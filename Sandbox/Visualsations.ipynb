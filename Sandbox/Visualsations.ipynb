{
 "cells": [
  {
   "cell_type": "code",
   "execution_count": null,
   "outputs": [],
   "source": [
    "import matplotlib.gridspec as gridspec\n",
    "from statsmodels.tsa.api import adfuller\n",
    "import matplotlib.pyplot as plt\n",
    "from DTO.Database import *\n",
    "from numpy import log\n",
    "import seaborn as sns\n",
    "import pandas as pd"
   ],
   "metadata": {
    "collapsed": false
   }
  },
  {
   "cell_type": "code",
   "execution_count": null,
   "outputs": [],
   "source": [
    "db_manager = HLDatabase()"
   ],
   "metadata": {
    "collapsed": false
   }
  },
  {
   "cell_type": "code",
   "execution_count": null,
   "outputs": [],
   "source": [
    "pollution = db_manager.get_table(table_name='Train-Pollution - tag - timestamp')\n",
    "pollution.drop(columns=['timestamp'], inplace=True)"
   ],
   "metadata": {
    "collapsed": false
   }
  },
  {
   "cell_type": "code",
   "execution_count": null,
   "outputs": [],
   "source": [
    "for column in pollution:\n",
    "    print(adfuller(pollution[column])[1])"
   ],
   "metadata": {
    "collapsed": false
   }
  },
  {
   "cell_type": "code",
   "execution_count": null,
   "outputs": [],
   "source": [
    "# Set the seaborn style\n",
    "sns.set_theme()\n",
    "\n",
    "# Define colors for each subplot\n",
    "colors = ['tab:blue', 'tab:orange', 'tab:green', 'tab:red', 'tab:purple', 'tab:brown', 'tab:pink', 'tab:gray']\n",
    "\n",
    "# Create a 3x3 grid\n",
    "gs = gridspec.GridSpec(3, 3)\n",
    "\n",
    "fig = plt.figure(figsize=(60,30)) # Adjusted the figure size\n",
    "\n",
    "# List of axes\n",
    "axes = []\n",
    "\n",
    "# Add the first 7 subplots as usual\n",
    "for i in range(7):\n",
    "    row = i // 3\n",
    "    col = i % 3\n",
    "    axes.append(fig.add_subplot(gs[row, col]))\n",
    "\n",
    "# Add the last subplot, that spans two columns\n",
    "axes.append(fig.add_subplot(gs[2, 1:]))\n",
    "\n",
    "# Loop over each axis and column in dataframe\n",
    "for ax, col_name, color in zip(axes, pollution.columns, colors):\n",
    "    sns.lineplot(data=pollution[col_name], ax=ax, color=color, linewidth=1.5)\n",
    "    ax.set_xticks(pollution.index[::800])\n",
    "    ax.set_xticklabels(pollution.index[::800], rotation=45)\n",
    "    ax.set_title(col_name, fontsize=16)\n",
    "    ax.set_xlabel('Time', fontsize=12)\n",
    "    ax.set_ylabel('Pollution Level', fontsize=12)\n",
    "    ax.grid(True)\n",
    "\n",
    "# Handle special case for the last subplot:\n",
    "axes[-1].plot(pollution, label=pollution.columns)\n",
    "axes[-1].legend(pollution.columns)\n",
    "axes[-1].set_title('Pollution Levels', fontsize=16)\n",
    "\n",
    "plt.tight_layout()\n",
    "plt.savefig('Pol.png')# This will reduce the margins and make the figure more compact\n",
    "plt.show()"
   ],
   "metadata": {
    "collapsed": false
   }
  },
  {
   "cell_type": "code",
   "execution_count": null,
   "outputs": [],
   "source": [
    "log_pol = log(pollution)"
   ],
   "metadata": {
    "collapsed": false
   }
  },
  {
   "cell_type": "code",
   "execution_count": null,
   "outputs": [],
   "source": [
    "for column in log_pol:\n",
    "    print(adfuller(log_pol[column])[1])"
   ],
   "metadata": {
    "collapsed": false
   }
  },
  {
   "cell_type": "code",
   "execution_count": null,
   "outputs": [],
   "source": [
    "# Set the seaborn style\n",
    "sns.set_theme()\n",
    "\n",
    "# Define colors for each subplot\n",
    "colors = ['tab:blue', 'tab:orange', 'tab:green', 'tab:red', 'tab:purple', 'tab:brown', 'tab:pink', 'tab:gray']\n",
    "\n",
    "# Create a 3x3 grid\n",
    "gs = gridspec.GridSpec(3, 3)\n",
    "\n",
    "fig = plt.figure(figsize=(60,30)) # Adjusted the figure size\n",
    "\n",
    "# List of axes\n",
    "axes = []\n",
    "\n",
    "# Add the first 7 subplots as usual\n",
    "for i in range(7):\n",
    "    row = i // 3\n",
    "    col = i % 3\n",
    "    axes.append(fig.add_subplot(gs[row, col]))\n",
    "\n",
    "# Add the last subplot, that spans two columns\n",
    "axes.append(fig.add_subplot(gs[2, 1:]))\n",
    "\n",
    "# Loop over each axis and column in dataframe\n",
    "for ax, col_name, color in zip(axes, log_pol.columns, colors):\n",
    "    sns.lineplot(data=log_pol[col_name], ax=ax, color=color, linewidth=1.5)\n",
    "    ax.set_xticks(log_pol.index[::800])\n",
    "    ax.set_xticklabels(log_pol.index[::800], rotation=45)\n",
    "    ax.set_title(col_name, fontsize=16)\n",
    "    ax.set_xlabel('Time', fontsize=12)\n",
    "    ax.set_ylabel('Pollution Level', fontsize=12)\n",
    "    ax.grid(True)\n",
    "\n",
    "# Handle special case for the last subplot:\n",
    "axes[-1].plot(log_pol, label=log_pol.columns)\n",
    "axes[-1].legend(log_pol.columns)\n",
    "axes[-1].set_title('Pollution Levels', fontsize=16)\n",
    "\n",
    "plt.tight_layout()\n",
    "plt.savefig('LogPol.png')# This will reduce the margins and make the figure more compact\n",
    "plt.show()"
   ],
   "metadata": {
    "collapsed": false
   }
  },
  {
   "cell_type": "code",
   "execution_count": null,
   "outputs": [],
   "source": [
    "windspeed = db_manager.get_table(table_name='TestWind Speed')\n",
    "windspeed.set_index('Date', inplace=True, drop=True)\n",
    "winddir = db_manager.get_table(table_name='TestWind Direction')\n",
    "winddir.set_index('Date', inplace=True, drop=True)"
   ],
   "metadata": {
    "collapsed": false
   }
  },
  {
   "cell_type": "code",
   "execution_count": null,
   "outputs": [],
   "source": [
    "# Create a new dataframe with the first columns of df1 and df2\n",
    "amsterdam = pd.DataFrame()\n",
    "amsterdam['Wind Speed'] = windspeed[\"Amsterdam\"].iloc[:]\n",
    "amsterdam['Wind Direction'] = winddir[\"Amsterdam\"].iloc[:]\n",
    "amsterdam"
   ],
   "metadata": {
    "collapsed": false
   }
  },
  {
   "cell_type": "code",
   "execution_count": null,
   "outputs": [],
   "source": [
    "# Set the seaborn style\n",
    "sns.set_theme()\n",
    "\n",
    "# Create a 2x1 grid\n",
    "fig, (ax1, ax2) = plt.subplots(2, 1, figsize=(40,20)) # Adjust the figure size\n",
    "\n",
    "sns.lineplot(data=amsterdam[\"Wind Speed\"].iloc[7000:9000], ax=ax1, color='tab:blue', linewidth=1.5)\n",
    "ax1.set_xticks(amsterdam.index[7000:9000:100])\n",
    "ax1.set_xticklabels(amsterdam.index[7000:9000:100], rotation=45)\n",
    "ax1.set_title(\"Wind Speed\", fontsize=16)\n",
    "ax1.set_xlabel('')\n",
    "ax1.set_ylabel('Speed (units)', fontsize=12)\n",
    "ax1.grid(True)\n",
    "\n",
    "sns.lineplot(data=amsterdam[\"Wind Direction\"].iloc[7000:9000], ax=ax2, color='tab:orange', linewidth=1.5)\n",
    "ax2.set_xticks(amsterdam.index[7000:9000:100])\n",
    "ax2.set_xticklabels(amsterdam.index[7000:9000:100], rotation=45)\n",
    "ax2.set_title(\"Wind Direction\", fontsize=16)\n",
    "ax2.set_xlabel('Time', fontsize=12)\n",
    "ax2.set_ylabel('Direction (degrees)', fontsize=12)\n",
    "ax2.grid(True)\n",
    "\n",
    "plt.tight_layout() # This will reduce the margins and make the figure more compact\n",
    "plt.savefig('/Users/main/Desktop/Wind.png')\n",
    "plt.show()"
   ],
   "metadata": {
    "collapsed": false
   }
  }
 ],
 "metadata": {
  "kernelspec": {
   "display_name": "Python 3",
   "language": "python",
   "name": "python3"
  },
  "language_info": {
   "codemirror_mode": {
    "name": "ipython",
    "version": 2
   },
   "file_extension": ".py",
   "mimetype": "text/x-python",
   "name": "python",
   "nbconvert_exporter": "python",
   "pygments_lexer": "ipython2",
   "version": "2.7.6"
  }
 },
 "nbformat": 4,
 "nbformat_minor": 0
}
